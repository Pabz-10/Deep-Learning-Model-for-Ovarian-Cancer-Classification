{
  "cells": [
    {
      "cell_type": "code",
      "execution_count": 2,
      "metadata": {
        "colab": {
          "base_uri": "https://localhost:8080/"
        },
        "id": "xHY9zrJ8jcN4",
        "outputId": "ac686faa-3c54-46ee-b2f4-9fcb0bc579a6"
      },
      "outputs": [
        {
          "output_type": "stream",
          "name": "stdout",
          "text": [
            "Requirement already satisfied: kagglehub in /usr/local/lib/python3.11/dist-packages (0.3.10)\n",
            "Requirement already satisfied: packaging in /usr/local/lib/python3.11/dist-packages (from kagglehub) (24.2)\n",
            "Requirement already satisfied: pyyaml in /usr/local/lib/python3.11/dist-packages (from kagglehub) (6.0.2)\n",
            "Requirement already satisfied: requests in /usr/local/lib/python3.11/dist-packages (from kagglehub) (2.32.3)\n",
            "Requirement already satisfied: tqdm in /usr/local/lib/python3.11/dist-packages (from kagglehub) (4.67.1)\n",
            "Requirement already satisfied: charset-normalizer<4,>=2 in /usr/local/lib/python3.11/dist-packages (from requests->kagglehub) (3.4.1)\n",
            "Requirement already satisfied: idna<4,>=2.5 in /usr/local/lib/python3.11/dist-packages (from requests->kagglehub) (3.10)\n",
            "Requirement already satisfied: urllib3<3,>=1.21.1 in /usr/local/lib/python3.11/dist-packages (from requests->kagglehub) (2.3.0)\n",
            "Requirement already satisfied: certifi>=2017.4.17 in /usr/local/lib/python3.11/dist-packages (from requests->kagglehub) (2025.1.31)\n"
          ]
        }
      ],
      "source": [
        "!pip install kagglehub"
      ]
    },
    {
      "cell_type": "markdown",
      "metadata": {
        "id": "Gn99vc-ujcN5"
      },
      "source": [
        "GET AND CHECK DATA"
      ]
    },
    {
      "cell_type": "code",
      "execution_count": 1,
      "metadata": {
        "colab": {
          "base_uri": "https://localhost:8080/"
        },
        "id": "v2TuUD-vjcN5",
        "outputId": "290e3034-1253-4ba7-d7b1-bf3bfc7ec4bd"
      },
      "outputs": [
        {
          "output_type": "stream",
          "name": "stdout",
          "text": [
            "Downloading from https://www.kaggle.com/api/v1/datasets/download/darshue/extracted-images?dataset_version_number=19...\n"
          ]
        },
        {
          "output_type": "stream",
          "name": "stderr",
          "text": [
            "100%|██████████| 3.40G/3.40G [02:47<00:00, 21.8MB/s]"
          ]
        },
        {
          "output_type": "stream",
          "name": "stdout",
          "text": [
            "Extracting files...\n"
          ]
        },
        {
          "output_type": "stream",
          "name": "stderr",
          "text": [
            "\n"
          ]
        },
        {
          "output_type": "stream",
          "name": "stdout",
          "text": [
            "Path to dataset files: /root/.cache/kagglehub/datasets/darshue/extracted-images/versions/19\n"
          ]
        }
      ],
      "source": [
        "import kagglehub\n",
        "\n",
        "# Download latest version\n",
        "path = kagglehub.dataset_download(\"darshue/extracted-images\")\n",
        "\n",
        "print(\"Path to dataset files:\", path)"
      ]
    },
    {
      "cell_type": "markdown",
      "metadata": {
        "id": "FU-GcYejjcN5"
      },
      "source": [
        "If you're training the model using colab use the bottom  command to install the datasets. You'll need your kaggle api key which you can generate in your account settings at kaggle. Download the api key and paste the key when prompted to download the dataset"
      ]
    },
    {
      "cell_type": "code",
      "execution_count": 3,
      "metadata": {
        "colab": {
          "base_uri": "https://localhost:8080/"
        },
        "id": "95IYCUjMjcN5",
        "outputId": "cef02569-7fae-491c-a235-527f74251420"
      },
      "outputs": [
        {
          "output_type": "stream",
          "name": "stdout",
          "text": [
            "Collecting opendatasets\n",
            "  Downloading opendatasets-0.1.22-py3-none-any.whl.metadata (9.2 kB)\n",
            "Requirement already satisfied: tqdm in /usr/local/lib/python3.11/dist-packages (from opendatasets) (4.67.1)\n",
            "Requirement already satisfied: kaggle in /usr/local/lib/python3.11/dist-packages (from opendatasets) (1.7.4.2)\n",
            "Requirement already satisfied: click in /usr/local/lib/python3.11/dist-packages (from opendatasets) (8.1.8)\n",
            "Requirement already satisfied: bleach in /usr/local/lib/python3.11/dist-packages (from kaggle->opendatasets) (6.2.0)\n",
            "Requirement already satisfied: certifi>=14.05.14 in /usr/local/lib/python3.11/dist-packages (from kaggle->opendatasets) (2025.1.31)\n",
            "Requirement already satisfied: charset-normalizer in /usr/local/lib/python3.11/dist-packages (from kaggle->opendatasets) (3.4.1)\n",
            "Requirement already satisfied: idna in /usr/local/lib/python3.11/dist-packages (from kaggle->opendatasets) (3.10)\n",
            "Requirement already satisfied: protobuf in /usr/local/lib/python3.11/dist-packages (from kaggle->opendatasets) (5.29.3)\n",
            "Requirement already satisfied: python-dateutil>=2.5.3 in /usr/local/lib/python3.11/dist-packages (from kaggle->opendatasets) (2.8.2)\n",
            "Requirement already satisfied: python-slugify in /usr/local/lib/python3.11/dist-packages (from kaggle->opendatasets) (8.0.4)\n",
            "Requirement already satisfied: requests in /usr/local/lib/python3.11/dist-packages (from kaggle->opendatasets) (2.32.3)\n",
            "Requirement already satisfied: setuptools>=21.0.0 in /usr/local/lib/python3.11/dist-packages (from kaggle->opendatasets) (75.1.0)\n",
            "Requirement already satisfied: six>=1.10 in /usr/local/lib/python3.11/dist-packages (from kaggle->opendatasets) (1.17.0)\n",
            "Requirement already satisfied: text-unidecode in /usr/local/lib/python3.11/dist-packages (from kaggle->opendatasets) (1.3)\n",
            "Requirement already satisfied: urllib3>=1.15.1 in /usr/local/lib/python3.11/dist-packages (from kaggle->opendatasets) (2.3.0)\n",
            "Requirement already satisfied: webencodings in /usr/local/lib/python3.11/dist-packages (from kaggle->opendatasets) (0.5.1)\n",
            "Downloading opendatasets-0.1.22-py3-none-any.whl (15 kB)\n",
            "Installing collected packages: opendatasets\n",
            "Successfully installed opendatasets-0.1.22\n",
            "Please provide your Kaggle credentials to download this dataset. Learn more: http://bit.ly/kaggle-creds\n",
            "Your Kaggle username: abielkim\n",
            "Your Kaggle Key: ··········\n",
            "Dataset URL: https://www.kaggle.com/datasets/darshue/extracted-images\n"
          ]
        }
      ],
      "source": [
        "!pip install opendatasets\n",
        "import opendatasets as od\n",
        "od.download(\"https://www.kaggle.com/datasets/darshue/extracted-images\")"
      ]
    },
    {
      "cell_type": "markdown",
      "metadata": {
        "id": "-1zk8wyyjcN6"
      },
      "source": [
        "The code below checks if youre dataset has been installed at the correct path\n",
        "\n",
        "1.   List item\n",
        "2.   List item\n",
        "\n"
      ]
    },
    {
      "cell_type": "code",
      "execution_count": 4,
      "metadata": {
        "id": "-Iu1PUJ7jcN6",
        "colab": {
          "base_uri": "https://localhost:8080/"
        },
        "outputId": "f88ef137-979e-4cb4-ec83-667e588627e0"
      },
      "outputs": [
        {
          "output_type": "stream",
          "name": "stdout",
          "text": [
            "Path exists: True\n",
            "Contents: ['HGSC', 'CC', 'LGSC', 'MC', 'EC']\n"
          ]
        }
      ],
      "source": [
        "import os\n",
        "data_dir = './extracted-images/train/'\n",
        "\n",
        "print(\"Path exists:\", os.path.exists(data_dir))  # Should print True\n",
        "print(\"Contents:\", os.listdir(data_dir))  # Should list the 5 subclasses"
      ]
    },
    {
      "cell_type": "markdown",
      "metadata": {
        "id": "Tyo12fhTjcN6"
      },
      "source": [
        "IMPORTS AND DEVICE"
      ]
    },
    {
      "cell_type": "code",
      "execution_count": 5,
      "metadata": {
        "id": "bAbQgMFbjcN6"
      },
      "outputs": [],
      "source": [
        "import torch\n",
        "import os\n",
        "import os.path\n",
        "import numpy as np\n",
        "import sys\n",
        "import torchvision\n",
        "import torchvision.transforms as transforms\n",
        "from torchvision import datasets\n",
        "import tqdm\n",
        "import torch.nn as nn\n",
        "import torch.optim as optim\n",
        "import matplotlib.pyplot as plt\n",
        "import torch.nn.functional as F\n",
        "from torch.utils.data import DataLoader\n",
        "from torch.utils.data import Dataset\n",
        "import torchvision.datasets as datasets\n",
        "\n",
        "np.random.seed(111)\n",
        "torch.manual_seed(111)\n",
        "torch.cuda.manual_seed_all(111)"
      ]
    },
    {
      "cell_type": "code",
      "execution_count": 6,
      "metadata": {
        "id": "Rfh5cblcjcN6",
        "outputId": "6fb0925e-fbf1-4a22-ae18-f21dbd392713",
        "colab": {
          "base_uri": "https://localhost:8080/"
        }
      },
      "outputs": [
        {
          "output_type": "stream",
          "name": "stdout",
          "text": [
            "CUDA available\n",
            "Device:  cuda\n"
          ]
        }
      ],
      "source": [
        "if torch.cuda.is_available():\n",
        "    print(\"CUDA available\")\n",
        "    device = torch.device(\"cuda\")\n",
        "else:\n",
        "    print(\"CUDA not available\")\n",
        "    device = torch.device(\"cpu\")\n",
        "print(\"Device: \", device)"
      ]
    },
    {
      "cell_type": "code",
      "execution_count": 7,
      "metadata": {
        "id": "YQv3AzHSjcN7"
      },
      "outputs": [],
      "source": [
        "train_test_split = 0.8\n",
        "batch_size = 32\n",
        "num_epochs = 10\n",
        "learning_rate = 0.001\n",
        "num_classes = 5\n",
        "num_workers = 4\n",
        "\n",
        "# if youre not using colab, you can change the data_dir path below\n",
        "# data_dir = '../data/train/"
      ]
    },
    {
      "cell_type": "code",
      "execution_count": 11,
      "metadata": {
        "id": "eeYoeRlejcN7"
      },
      "outputs": [],
      "source": [
        "# mean, std = [0.7276], [0.1001]\n",
        "\n",
        "mean=[0.8078, 0.6699, 0.8137]\n",
        "std=[0.0925, 0.1143, 0.0710]"
      ]
    },
    {
      "cell_type": "code",
      "execution_count": 12,
      "metadata": {
        "id": "UUSfnVVVjcN7"
      },
      "outputs": [],
      "source": [
        "train_transform = transforms.Compose([\n",
        "    # transforms.Grayscale(num_output_channels=1),\n",
        "    transforms.Resize((496, 496)),\n",
        "    transforms.RandomHorizontalFlip(),\n",
        "    transforms.RandomRotation(10),\n",
        "    transforms.ToTensor(),\n",
        "    transforms.Normalize(mean, std)\n",
        "])\n",
        "test_transform = transforms.Compose([\n",
        "    # transforms.Grayscale(num_output_channels=1),\n",
        "    transforms.Resize((496, 496)),\n",
        "    transforms.ToTensor(),\n",
        "    transforms.Normalize(mean, std)\n",
        "])"
      ]
    },
    {
      "cell_type": "code",
      "execution_count": 13,
      "metadata": {
        "id": "9HrfVxwbjcN7",
        "outputId": "0be11a5d-52de-4bdc-a5e6-3cd91e87939f",
        "colab": {
          "base_uri": "https://localhost:8080/"
        }
      },
      "outputs": [
        {
          "output_type": "stream",
          "name": "stdout",
          "text": [
            "Number of training samples: 20402\n",
            "Number of testing samples: 5101\n"
          ]
        }
      ],
      "source": [
        "\n",
        "train_dataset = datasets.ImageFolder(root=os.path.join(data_dir), transform=train_transform)\n",
        "test_dataset = datasets.ImageFolder(root=os.path.join(data_dir), transform=test_transform)\n",
        "\n",
        "train_size = int(train_test_split * len(train_dataset))\n",
        "test_size = len(train_dataset) - train_size\n",
        "train_dataset, test_dataset = torch.utils.data.random_split(train_dataset, [train_size, test_size])\n",
        "\n",
        "train_loader = DataLoader(train_dataset, batch_size=batch_size, shuffle=True, num_workers=num_workers)\n",
        "test_loader = DataLoader(test_dataset, batch_size=batch_size, shuffle=False, num_workers=num_workers)\n",
        "\n",
        "print('Number of training samples:', len(train_loader.dataset))\n",
        "print('Number of testing samples:', len(test_loader.dataset))\n",
        "\n",
        "classes = [ 'CC', 'EC', 'HGSC', 'LGSC', 'MC' ]"
      ]
    },
    {
      "cell_type": "code",
      "execution_count": 14,
      "metadata": {
        "id": "YAtGO1efjcN7"
      },
      "outputs": [],
      "source": [
        "# Used to get mean and std of dataset, does not need to be run again\n",
        "mean_transform = transforms.Compose([\n",
        "    # transforms.Grayscale(num_output_channels=1),\n",
        "    transforms.Resize((496, 496)),\n",
        "    transforms.ToTensor()\n",
        "])\n",
        "if False:\n",
        "    dataset = datasets.ImageFolder(root=os.path.join(data_dir), transform=mean_transform)\n",
        "    loader = DataLoader(dataset, batch_size=32, shuffle=False, num_workers=num_workers)\n",
        "\n",
        "    # mean = 0.0\n",
        "    # std = 0.0\n",
        "    # nb_samples = 0\n",
        "\n",
        "    # for images, _ in loader:\n",
        "    #     batch_samples = images.size(0)\n",
        "    #     # Flatten images in each batch: (batch_size, channels, height * width)\n",
        "    #     images = images.view(batch_samples, images.size(1), -1)\n",
        "    #     mean += images.mean(2).sum(0)\n",
        "    #     std += images.std(2).sum(0)\n",
        "    #     nb_samples += batch_samples\n",
        "\n",
        "    # mean /= nb_samples\n",
        "    # std /= nb_samples\n",
        "\n",
        "    # print('Mean:', mean)\n",
        "    # print('Std:', std)\n",
        "\n",
        "    mean = torch.zeros(3)\n",
        "    std = torch.zeros(3)\n",
        "    nb_samples = 0\n",
        "    for images, _ in loader:\n",
        "        batch_samples = images.size(0)\n",
        "        images = images.view(batch_samples, 3, -1)  # 3 channels\n",
        "        mean += images.mean(2).sum(0)\n",
        "        std += images.std(2).sum(0)\n",
        "        nb_samples += batch_samples\n",
        "    mean /= nb_samples\n",
        "    std /= nb_samples\n",
        "    print('Mean:', mean)  # e.g., [0.485, 0.456, 0.406]\n",
        "    print('Std:', std)   # e.g., [0.229, 0.224, 0.225]"
      ]
    },
    {
      "cell_type": "code",
      "execution_count": 18,
      "metadata": {
        "id": "KlW5wB8hjcN7",
        "outputId": "29cbb3c6-d5b1-4fb4-c7e6-b34170a3f20c",
        "colab": {
          "base_uri": "https://localhost:8080/"
        }
      },
      "outputs": [
        {
          "output_type": "stream",
          "name": "stderr",
          "text": [
            "/usr/local/lib/python3.11/dist-packages/torchvision/models/_utils.py:208: UserWarning: The parameter 'pretrained' is deprecated since 0.13 and may be removed in the future, please use 'weights' instead.\n",
            "  warnings.warn(\n",
            "/usr/local/lib/python3.11/dist-packages/torchvision/models/_utils.py:223: UserWarning: Arguments other than a weight enum or `None` for 'weights' are deprecated since 0.13 and may be removed in the future. The current behavior is equivalent to passing `weights=ResNet18_Weights.IMAGENET1K_V1`. You can also use `weights=ResNet18_Weights.DEFAULT` to get the most up-to-date weights.\n",
            "  warnings.warn(msg)\n"
          ]
        }
      ],
      "source": [
        "from torchvision.models import resnet18\n",
        "\n",
        "# oddly, I dont see where we defined output layer to have 5 classes?\n",
        "\n",
        "model = resnet18(pretrained=True)\n",
        "# model.conv1 = nn.Conv2d(1, 64, kernel_size=7, stride=2, padding=3, bias=False)\n",
        "# model.fc = nn.Linear(model.fc.in_features, num_classes) # ???\n",
        "model = model.to(device)"
      ]
    },
    {
      "cell_type": "code",
      "execution_count": 19,
      "metadata": {
        "id": "vsHvN3t2jcN7"
      },
      "outputs": [],
      "source": [
        "criterion = nn.CrossEntropyLoss()\n",
        "optimizer = optim.Adam(model.parameters(), lr=learning_rate, weight_decay=0.00025)\n",
        "\n",
        "# Learning rate scheduler implementation\n",
        "scheduler = optim.lr_scheduler.CosineAnnealingLR(optimizer, T_max= num_epochs)"
      ]
    },
    {
      "cell_type": "code",
      "execution_count": 20,
      "metadata": {
        "id": "V4VNEXagjcN8",
        "outputId": "32fbd60a-6069-4f93-b975-7f87d3bca476",
        "colab": {
          "base_uri": "https://localhost:8080/",
          "height": 1000
        }
      },
      "outputs": [
        {
          "output_type": "stream",
          "name": "stderr",
          "text": [
            "Epoch [1/10]: 100%|██████████| 638/638 [01:12<00:00,  8.76it/s, loss=0.405]\n",
            "Validation: 100%|██████████| 160/160 [00:18<00:00,  8.78it/s]\n"
          ]
        },
        {
          "output_type": "stream",
          "name": "stdout",
          "text": [
            "Epoch 1/10, Loss: 0.6586, Validation Accuracy: 0.7930, Test Accuracy: 0.7936\n",
            "Saved new best model at epoch 1\n"
          ]
        },
        {
          "output_type": "stream",
          "name": "stderr",
          "text": [
            "Epoch [2/10]: 100%|██████████| 638/638 [01:12<00:00,  8.83it/s, loss=0.598]\n",
            "Validation: 100%|██████████| 160/160 [00:18<00:00,  8.71it/s]\n"
          ]
        },
        {
          "output_type": "stream",
          "name": "stdout",
          "text": [
            "Epoch 2/10, Loss: 0.3788, Validation Accuracy: 0.8053, Test Accuracy: 0.8044\n",
            "Saved new best model at epoch 2\n"
          ]
        },
        {
          "output_type": "stream",
          "name": "stderr",
          "text": [
            "Epoch [3/10]: 100%|██████████| 638/638 [01:12<00:00,  8.81it/s, loss=0.371]\n",
            "Validation: 100%|██████████| 160/160 [00:18<00:00,  8.80it/s]\n"
          ]
        },
        {
          "output_type": "stream",
          "name": "stdout",
          "text": [
            "Epoch 3/10, Loss: 0.3064, Validation Accuracy: 0.5726, Test Accuracy: 0.5734\n"
          ]
        },
        {
          "output_type": "stream",
          "name": "stderr",
          "text": [
            "Epoch [4/10]: 100%|██████████| 638/638 [01:12<00:00,  8.83it/s, loss=0.174]\n",
            "Validation: 100%|██████████| 160/160 [00:18<00:00,  8.75it/s]\n"
          ]
        },
        {
          "output_type": "stream",
          "name": "stdout",
          "text": [
            "Epoch 4/10, Loss: 0.2514, Validation Accuracy: 0.8845, Test Accuracy: 0.8824\n",
            "Saved new best model at epoch 4\n"
          ]
        },
        {
          "output_type": "stream",
          "name": "stderr",
          "text": [
            "Epoch [5/10]: 100%|██████████| 638/638 [01:12<00:00,  8.76it/s, loss=0.223]\n",
            "Validation: 100%|██████████| 160/160 [00:18<00:00,  8.77it/s]\n"
          ]
        },
        {
          "output_type": "stream",
          "name": "stdout",
          "text": [
            "Epoch 5/10, Loss: 0.2043, Validation Accuracy: 0.8696, Test Accuracy: 0.8724\n"
          ]
        },
        {
          "output_type": "stream",
          "name": "stderr",
          "text": [
            "Epoch [6/10]: 100%|██████████| 638/638 [01:12<00:00,  8.79it/s, loss=0.0307]\n",
            "Validation: 100%|██████████| 160/160 [00:18<00:00,  8.74it/s]\n"
          ]
        },
        {
          "output_type": "stream",
          "name": "stdout",
          "text": [
            "Epoch 6/10, Loss: 0.1622, Validation Accuracy: 0.9375, Test Accuracy: 0.9412\n",
            "Saved new best model at epoch 6\n"
          ]
        },
        {
          "output_type": "stream",
          "name": "stderr",
          "text": [
            "Epoch [7/10]: 100%|██████████| 638/638 [01:13<00:00,  8.70it/s, loss=0.249]\n",
            "Validation: 100%|██████████| 160/160 [00:18<00:00,  8.69it/s]\n"
          ]
        },
        {
          "output_type": "stream",
          "name": "stdout",
          "text": [
            "Epoch 7/10, Loss: 0.1158, Validation Accuracy: 0.9610, Test Accuracy: 0.9620\n",
            "Saved new best model at epoch 7\n"
          ]
        },
        {
          "output_type": "stream",
          "name": "stderr",
          "text": [
            "Epoch [8/10]: 100%|██████████| 638/638 [01:12<00:00,  8.76it/s, loss=0.181]\n",
            "Validation: 100%|██████████| 160/160 [00:17<00:00,  8.91it/s]\n"
          ]
        },
        {
          "output_type": "stream",
          "name": "stdout",
          "text": [
            "Epoch 8/10, Loss: 0.0751, Validation Accuracy: 0.9765, Test Accuracy: 0.9780\n",
            "Saved new best model at epoch 8\n"
          ]
        },
        {
          "output_type": "stream",
          "name": "stderr",
          "text": [
            "Epoch [9/10]: 100%|██████████| 638/638 [01:11<00:00,  8.87it/s, loss=0.128]\n",
            "Validation: 100%|██████████| 160/160 [00:17<00:00,  8.93it/s]\n"
          ]
        },
        {
          "output_type": "stream",
          "name": "stdout",
          "text": [
            "Epoch 9/10, Loss: 0.0495, Validation Accuracy: 0.9888, Test Accuracy: 0.9884\n",
            "Saved new best model at epoch 9\n"
          ]
        },
        {
          "output_type": "stream",
          "name": "stderr",
          "text": [
            "Epoch [10/10]: 100%|██████████| 638/638 [01:11<00:00,  8.86it/s, loss=0.00142]\n",
            "Validation: 100%|██████████| 160/160 [00:18<00:00,  8.73it/s]\n"
          ]
        },
        {
          "output_type": "stream",
          "name": "stdout",
          "text": [
            "Epoch 10/10, Loss: 0.0348, Validation Accuracy: 0.9926, Test Accuracy: 0.9916\n",
            "Saved new best model at epoch 10\n"
          ]
        },
        {
          "output_type": "display_data",
          "data": {
            "text/plain": [
              "<Figure size 640x480 with 2 Axes>"
            ],
            "image/png": "[encoded data removed]"
          },
          "metadata": {}
        }
      ],
      "source": [
        "# Store values for plot\n",
        "epoch_losses = []\n",
        "val_accuracies = []\n",
        "test_accuracies = []\n",
        "\n",
        "# variables for saving our best model\n",
        "best_val_accuracy = 0.0\n",
        "best_epoch = 0\n",
        "models_dir = 'models'\n",
        "os.makedirs(models_dir, exist_ok=True)\n",
        "save_path = os.path.join(models_dir, 'best_model.pth')\n",
        "\n",
        "\n",
        "for epoch in range(num_epochs):\n",
        "    model.train()\n",
        "    running_loss = 0.0\n",
        "\n",
        "    #Training Loop\n",
        "    loop = tqdm.tqdm(train_loader, desc=f\"Epoch [{epoch+1}/{num_epochs}]\")\n",
        "    for images, labels in loop:\n",
        "        images, labels = images.to(device), labels.to(device)\n",
        "\n",
        "        optimizer.zero_grad()\n",
        "        outputs = model(images)\n",
        "        loss = criterion(outputs, labels)\n",
        "        loss.backward()\n",
        "        optimizer.step()\n",
        "\n",
        "        running_loss += loss.item()\n",
        "        loop.set_postfix(loss=loss.item())\n",
        "\n",
        "    scheduler.step() #LR implementation after every epoch\n",
        "    epoch_loss = running_loss / len(train_loader)\n",
        "    epoch_losses.append(epoch_loss) # store data to plot\n",
        "\n",
        "    #Validation Accuray\n",
        "    model.eval()\n",
        "    correct = 0\n",
        "    total = 0\n",
        "    with torch.no_grad():\n",
        "        val_loop = tqdm.tqdm(test_loader, desc=\"Validation\")\n",
        "        for images, labels in val_loop:\n",
        "            images, labels = images.to(device), labels.to(device)\n",
        "            outputs = model(images)\n",
        "            predictions = outputs.argmax(dim=1)\n",
        "            correct += (predictions == labels).sum().item()\n",
        "            total += labels.size(0)\n",
        "    val_accuracy = correct / total\n",
        "    val_accuracies.append(val_accuracy) # store data to plot\n",
        "\n",
        "    # Test Accuray\n",
        "    model.eval()\n",
        "    correct_test = 0\n",
        "    total_test = 0\n",
        "    with torch.no_grad():\n",
        "        for images, labels in test_loader:\n",
        "            images, labels = images.to(device), labels.to(device)\n",
        "            outputs = model(images)\n",
        "            predictions = outputs.argmax(dim=1)\n",
        "            correct_test += (predictions == labels).sum().item()\n",
        "            total_test += labels.size(0)\n",
        "    test_accuracy = correct_test / total_test\n",
        "    test_accuracies.append(test_accuracy) #store data to plot\n",
        "\n",
        "    print(f\"Epoch {epoch+1}/{num_epochs}, Loss: {epoch_loss:.4f}, Validation Accuracy: {val_accuracy:.4f}, Test Accuracy: {test_accuracy:.4f}\")\n",
        "\n",
        "    # save the best model based on validation acc.\n",
        "    if val_accuracy > best_val_accuracy:\n",
        "        best_val_accuracy = val_accuracy\n",
        "        best_epoch = epoch + 1\n",
        "        torch.save(model.state_dict(), save_path)\n",
        "        print(f\"Saved new best model at epoch {epoch+1}\")\n",
        "\n",
        "plt.figure\n",
        "\n",
        "#loss plot\n",
        "plt.subplot(1, 2, 1)\n",
        "plt.plot(range(1, num_epochs + 1), epoch_losses, marker='o', linestyle='-', color='b', label=\"Training Loss\")\n",
        "plt.xlabel(\"Epoch\")\n",
        "plt.ylabel(\"Loss\")\n",
        "plt.title(\"Training Loss Over Epochs\")\n",
        "plt.legend()\n",
        "\n",
        "# Accuracy Plot\n",
        "plt.subplot(1, 2, 2)\n",
        "plt.plot(range(1, num_epochs + 1), val_accuracies, marker='o', linestyle='-', color='g', label=\"Validation Accuracy\")\n",
        "plt.plot(range(1, num_epochs + 1), test_accuracies, marker='s', linestyle='-', color='r', label=\"Test Accuracy\")\n",
        "plt.xlabel(\"Epoch\")\n",
        "plt.ylabel(\"Accuracy\")\n",
        "plt.title(\"Validation & Test Accuracy Over Epochs\")\n",
        "plt.legend()\n",
        "\n",
        "plt.tight_layout()\n",
        "plt.show()"
      ]
    }
  ],
  "metadata": {
    "kernelspec": {
      "display_name": "Python 3",
      "name": "python3"
    },
    "language_info": {
      "codemirror_mode": {
        "name": "ipython",
        "version": 3
      },
      "file_extension": ".py",
      "mimetype": "text/x-python",
      "name": "python",
      "nbconvert_exporter": "python",
      "pygments_lexer": "ipython3",
      "version": "3.12.4"
    },
    "colab": {
      "provenance": [],
      "gpuType": "A100"
    },
    "accelerator": "GPU"
  },
  "nbformat": 4,
  "nbformat_minor": 0
}
{
  "cells": [
    {
      "cell_type": "code",
      "execution_count": null,
      "metadata": {
        "colab": {
          "base_uri": "https://localhost:8080/"
        },
        "id": "i_POlxd3eSsG",
        "outputId": "143b1b39-e78f-4389-8b1a-b9fe60eb2075"
      },
      "outputs": [
        {
          "output_type": "stream",
          "name": "stdout",
          "text": [
            "Requirement already satisfied: kagglehub in /usr/local/lib/python3.11/dist-packages (0.3.11)\n",
            "Requirement already satisfied: packaging in /usr/local/lib/python3.11/dist-packages (from kagglehub) (24.2)\n",
            "Requirement already satisfied: pyyaml in /usr/local/lib/python3.11/dist-packages (from kagglehub) (6.0.2)\n",
            "Requirement already satisfied: requests in /usr/local/lib/python3.11/dist-packages (from kagglehub) (2.32.3)\n",
            "Requirement already satisfied: tqdm in /usr/local/lib/python3.11/dist-packages (from kagglehub) (4.67.1)\n",
            "Requirement already satisfied: charset-normalizer<4,>=2 in /usr/local/lib/python3.11/dist-packages (from requests->kagglehub) (3.4.1)\n",
            "Requirement already satisfied: idna<4,>=2.5 in /usr/local/lib/python3.11/dist-packages (from requests->kagglehub) (3.10)\n",
            "Requirement already satisfied: urllib3<3,>=1.21.1 in /usr/local/lib/python3.11/dist-packages (from requests->kagglehub) (2.3.0)\n",
            "Requirement already satisfied: certifi>=2017.4.17 in /usr/local/lib/python3.11/dist-packages (from requests->kagglehub) (2025.1.31)\n"
          ]
        }
      ],
      "source": [
        "!pip install kagglehub"
      ]
    },
    {
      "cell_type": "markdown",
      "metadata": {
        "id": "p9FwrZpBeSsH"
      },
      "source": [
        "GET AND CHECK DATA"
      ]
    },
    {
      "cell_type": "code",
      "execution_count": null,
      "metadata": {
        "colab": {
          "base_uri": "https://localhost:8080/"
        },
        "id": "V_A7mFDFeSsI",
        "outputId": "e9d6a8cf-115b-408e-cbe6-811f1a1ba66c"
      },
      "outputs": [
        {
          "output_type": "stream",
          "name": "stdout",
          "text": [
            "Downloading from https://www.kaggle.com/api/v1/datasets/download/darshue/extracted-images?dataset_version_number=19...\n"
          ]
        },
        {
          "output_type": "stream",
          "name": "stderr",
          "text": [
            "100%|██████████| 3.40G/3.40G [00:33<00:00, 108MB/s] "
          ]
        },
        {
          "output_type": "stream",
          "name": "stdout",
          "text": [
            "Extracting files...\n"
          ]
        },
        {
          "output_type": "stream",
          "name": "stderr",
          "text": [
            "\n"
          ]
        },
        {
          "output_type": "stream",
          "name": "stdout",
          "text": [
            "Path to dataset files: /root/.cache/kagglehub/datasets/darshue/extracted-images/versions/19\n"
          ]
        }
      ],
      "source": [
        "import kagglehub\n",
        "\n",
        "# Download latest version\n",
        "path = kagglehub.dataset_download(\"darshue/extracted-images\")\n",
        "\n",
        "print(\"Path to dataset files:\", path)"
      ]
    },
    {
      "cell_type": "markdown",
      "metadata": {
        "id": "RJd3klKzeSsI"
      },
      "source": [
        "If you're training the model using colab use the bottom  command to install the datasets. You'll need your kaggle api key which you can generate in your account settings at kaggle. Download the api key and paste the key when prompted to download the dataset"
      ]
    },
    {
      "cell_type": "code",
      "execution_count": null,
      "metadata": {
        "colab": {
          "base_uri": "https://localhost:8080/"
        },
        "id": "if5AvmS0eSsI",
        "outputId": "1e300ed4-0685-4fac-8507-ec700dae3333"
      },
      "outputs": [
        {
          "output_type": "stream",
          "name": "stdout",
          "text": [
            "Collecting opendatasets\n",
            "  Downloading opendatasets-0.1.22-py3-none-any.whl.metadata (9.2 kB)\n",
            "Requirement already satisfied: tqdm in /usr/local/lib/python3.11/dist-packages (from opendatasets) (4.67.1)\n",
            "Requirement already satisfied: kaggle in /usr/local/lib/python3.11/dist-packages (from opendatasets) (1.7.4.2)\n",
            "Requirement already satisfied: click in /usr/local/lib/python3.11/dist-packages (from opendatasets) (8.1.8)\n",
            "Requirement already satisfied: bleach in /usr/local/lib/python3.11/dist-packages (from kaggle->opendatasets) (6.2.0)\n",
            "Requirement already satisfied: certifi>=14.05.14 in /usr/local/lib/python3.11/dist-packages (from kaggle->opendatasets) (2025.1.31)\n",
            "Requirement already satisfied: charset-normalizer in /usr/local/lib/python3.11/dist-packages (from kaggle->opendatasets) (3.4.1)\n",
            "Requirement already satisfied: idna in /usr/local/lib/python3.11/dist-packages (from kaggle->opendatasets) (3.10)\n",
            "Requirement already satisfied: protobuf in /usr/local/lib/python3.11/dist-packages (from kaggle->opendatasets) (5.29.4)\n",
            "Requirement already satisfied: python-dateutil>=2.5.3 in /usr/local/lib/python3.11/dist-packages (from kaggle->opendatasets) (2.8.2)\n",
            "Requirement already satisfied: python-slugify in /usr/local/lib/python3.11/dist-packages (from kaggle->opendatasets) (8.0.4)\n",
            "Requirement already satisfied: requests in /usr/local/lib/python3.11/dist-packages (from kaggle->opendatasets) (2.32.3)\n",
            "Requirement already satisfied: setuptools>=21.0.0 in /usr/local/lib/python3.11/dist-packages (from kaggle->opendatasets) (75.2.0)\n",
            "Requirement already satisfied: six>=1.10 in /usr/local/lib/python3.11/dist-packages (from kaggle->opendatasets) (1.17.0)\n",
            "Requirement already satisfied: text-unidecode in /usr/local/lib/python3.11/dist-packages (from kaggle->opendatasets) (1.3)\n",
            "Requirement already satisfied: urllib3>=1.15.1 in /usr/local/lib/python3.11/dist-packages (from kaggle->opendatasets) (2.3.0)\n",
            "Requirement already satisfied: webencodings in /usr/local/lib/python3.11/dist-packages (from kaggle->opendatasets) (0.5.1)\n",
            "Downloading opendatasets-0.1.22-py3-none-any.whl (15 kB)\n",
            "Installing collected packages: opendatasets\n",
            "Successfully installed opendatasets-0.1.22\n",
            "Please provide your Kaggle credentials to download this dataset. Learn more: http://bit.ly/kaggle-creds\n",
            "Your Kaggle username: abielkim\n",
            "Your Kaggle Key: ··········\n",
            "Dataset URL: https://www.kaggle.com/datasets/darshue/extracted-images\n"
          ]
        }
      ],
      "source": [
        "!pip install opendatasets\n",
        "import opendatasets as od\n",
        "od.download(\"https://www.kaggle.com/datasets/darshue/extracted-images\")"
      ]
    },
    {
      "cell_type": "markdown",
      "metadata": {
        "id": "Tcds71cmeSsI"
      },
      "source": [
        "The code below checks if youre dataset has been installed at the correct path"
      ]
    },
    {
      "cell_type": "code",
      "execution_count": null,
      "metadata": {
        "colab": {
          "base_uri": "https://localhost:8080/"
        },
        "id": "sXetCohneSsI",
        "outputId": "c3facb16-35ef-4f1f-d9e1-7a0f85703247"
      },
      "outputs": [
        {
          "output_type": "stream",
          "name": "stdout",
          "text": [
            "Path exists: True\n",
            "Contents: ['LGSC', 'CC', 'MC', 'HGSC', 'EC']\n"
          ]
        }
      ],
      "source": [
        "import os\n",
        "\n",
        "is_colab = True\n",
        "if is_colab:\n",
        "    data_dir = './extracted-images/train/'\n",
        "else:\n",
        "    data_dir = \"../data/train/\"\n",
        "\n",
        "\n",
        "print(\"Path exists:\", os.path.exists(data_dir))  # Should print True\n",
        "print(\"Contents:\", os.listdir(data_dir))  # Should list the 5 subclasses\n",
        "\n",
        "output_dir = '../output'\n",
        "os.makedirs(output_dir, exist_ok=True)"
      ]
    },
    {
      "cell_type": "markdown",
      "metadata": {
        "id": "W3yA5W12eSsJ"
      },
      "source": [
        "IMPORTS AND DEVICE"
      ]
    },
    {
      "cell_type": "code",
      "execution_count": null,
      "metadata": {
        "id": "8mWM6UkeeSsJ"
      },
      "outputs": [],
      "source": [
        "import torch\n",
        "import os\n",
        "import os.path\n",
        "import numpy as np\n",
        "import sys\n",
        "import torchvision\n",
        "import torchvision.transforms as transforms\n",
        "from torchvision import datasets\n",
        "import tqdm\n",
        "import torch.nn as nn\n",
        "import torch.optim as optim\n",
        "import matplotlib.pyplot as plt\n",
        "import torch.nn.functional as F\n",
        "from torch.utils.data import DataLoader\n",
        "from torch.utils.data import Dataset\n",
        "import torchvision.datasets as datasets\n",
        "import seaborn as sns\n",
        "from sklearn.metrics import confusion_matrix\n",
        "\n",
        "np.random.seed(111)\n",
        "torch.manual_seed(111)\n",
        "torch.cuda.manual_seed_all(111)"
      ]
    },
    {
      "cell_type": "code",
      "execution_count": null,
      "metadata": {
        "colab": {
          "base_uri": "https://localhost:8080/"
        },
        "id": "vfCM5V7geSsJ",
        "outputId": "b05608a7-0f71-4420-a03d-5864dd64256c"
      },
      "outputs": [
        {
          "output_type": "stream",
          "name": "stdout",
          "text": [
            "CUDA available\n",
            "Device:  cuda\n"
          ]
        }
      ],
      "source": [
        "if torch.cuda.is_available():\n",
        "    print(\"CUDA available\")\n",
        "    device = torch.device(\"cuda\")\n",
        "else:\n",
        "    print(\"CUDA not available\")\n",
        "    device = torch.device(\"cpu\")\n",
        "print(\"Device: \", device)"
      ]
    },
    {
      "cell_type": "code",
      "execution_count": null,
      "metadata": {
        "id": "eSRMen9OeSsK"
      },
      "outputs": [],
      "source": [
        "train_test_split = 0.8\n",
        "batch_size = 32\n",
        "num_epochs = 10\n",
        "learning_rate = 0.001\n",
        "num_classes = 5\n",
        "if is_colab:\n",
        "    num_workers = 4\n",
        "else:\n",
        "    num_workers = 1\n"
      ]
    },
    {
      "cell_type": "code",
      "execution_count": null,
      "metadata": {
        "id": "xbDa-2h7eSsK"
      },
      "outputs": [],
      "source": [
        "# mean, std = [0.7276], [0.1001]\n",
        "\n",
        "# mean=[0.8078, 0.6699, 0.8137]\n",
        "# std=[0.0925, 0.1143, 0.0710]\n",
        "\n",
        "mean = [0.8078, 0.6700, 0.8138]\n",
        "std = [0.0925, 0.1142, 0.0710]"
      ]
    },
    {
      "cell_type": "code",
      "execution_count": null,
      "metadata": {
        "id": "QkvzUj-peSsK"
      },
      "outputs": [],
      "source": [
        "train_transform = transforms.Compose([\n",
        "    #transforms.Grayscale(num_output_channels=1),\n",
        "    transforms.Resize((496, 496)),\n",
        "    transforms.RandomCrop(480),\n",
        "    transforms.RandomHorizontalFlip(),\n",
        "    transforms.RandomRotation(10),\n",
        "    transforms.RandomAffine(degrees=0, translate=(0.1, 0.1)),\n",
        "    transforms.ColorJitter(brightness=0.2, contrast=0.2),\n",
        "    transforms.ToTensor(),\n",
        "    transforms.Normalize(mean, std)\n",
        "])\n",
        "test_transform = transforms.Compose([\n",
        "    #transforms.Grayscale(num_output_channels=1),\n",
        "    transforms.Resize((496, 496)),\n",
        "    transforms.ToTensor(),\n",
        "    transforms.Normalize(mean, std)\n",
        "])"
      ]
    },
    {
      "cell_type": "code",
      "execution_count": null,
      "metadata": {
        "colab": {
          "base_uri": "https://localhost:8080/"
        },
        "id": "KNTgs9AveSsK",
        "outputId": "a6764b9e-cc11-40ee-fdb0-33d8aa3dd866"
      },
      "outputs": [
        {
          "output_type": "stream",
          "name": "stdout",
          "text": [
            "Number of training samples: 20402\n",
            "Number of testing samples: 5101\n"
          ]
        }
      ],
      "source": [
        "# train_dataset = datasets.ImageFolder(root=os.path.join(data_dir), transform=train_transform)\n",
        "# test_dataset = datasets.ImageFolder(root=os.path.join(data_dir), transform=test_transform)\n",
        "\n",
        "# train_size = int(train_test_split * len(train_dataset))\n",
        "# test_size = len(train_dataset) - train_size\n",
        "# train_dataset, test_dataset = torch.utils.data.random_split(train_dataset, [train_size, test_size])\n",
        "\n",
        "# train_loader = DataLoader(train_dataset, batch_size=batch_size, shuffle=True, num_workers=num_workers)\n",
        "# test_loader = DataLoader(test_dataset, batch_size=batch_size, shuffle=False, num_workers=num_workers)\n",
        "\n",
        "# print('Number of training samples:', len(train_loader.dataset))\n",
        "# print('Number of testing samples:', len(test_loader.dataset))\n",
        "\n",
        "# classes = [ 'CC', 'EC', 'HGSC', 'LGSC', 'MC' ]\n",
        "\n",
        "\n",
        "# # # # # # # # # # # # # # # # # # # # # # # # # # # # # # # # # # # # # # # #\n",
        " # # # # # # # # # # # # # # # # # # # # # # # # # # # # # # # # # # # # # # # #\n",
        "# # # # # # # # # # # # # # # # # # # # # # # # # # # # # # # # # # # # # # # #\n",
        " # # # # # # # # # # # # # # # # # # # # # # # # # # # # # # # # # # # # # # # #\n",
        "\n",
        "\n",
        "#########################################\n",
        "### PATCH 1: DATA PREPROCESSING LAYER ###\n",
        "#########################################\n",
        "train_base_dataset = datasets.ImageFolder(root=os.path.join(data_dir))\n",
        "test_base_dataset = datasets.ImageFolder(root=os.path.join(data_dir))\n",
        "\n",
        "full_indices = list(range(len(train_base_dataset)))\n",
        "train_size = int(train_test_split * len(train_base_dataset))\n",
        "test_size = len(test_base_dataset) - train_size\n",
        "\n",
        "\n",
        "import random\n",
        "random.shuffle(full_indices)\n",
        "train_indices = full_indices[:train_size]\n",
        "test_indices = full_indices[train_size:]\n",
        "\n",
        "train_dataset = torch.utils.data.Subset(train_base_dataset, train_indices)\n",
        "test_dataset = torch.utils.data.Subset(test_base_dataset, test_indices)\n",
        "\n",
        "# explicitly set each transform separately to prevent data leakage\n",
        "train_dataset.dataset.transform = train_transform\n",
        "test_dataset.dataset.transform = test_transform\n",
        "\n",
        "train_loader = DataLoader(train_dataset, batch_size=batch_size, shuffle=True, num_workers=num_workers)\n",
        "test_loader = DataLoader(test_dataset, batch_size=batch_size, shuffle=False, num_workers=num_workers)\n",
        "\n",
        "print('Number of training samples:', len(train_loader.dataset))\n",
        "print('Number of testing samples:', len(test_loader.dataset))\n",
        "\n",
        "classes = ['CC', 'EC', 'HGSC', 'LGSC', 'MC']\n"
      ]
    },
    {
      "cell_type": "code",
      "execution_count": null,
      "metadata": {
        "id": "_Bp59vOZeSsK"
      },
      "outputs": [],
      "source": [
        "# Used to get mean and std of dataset, does not need to be run again\n",
        "\n",
        "if False:\n",
        "    mean_transform = transforms.Compose([\n",
        "        transforms.Resize((496, 496)),\n",
        "        transforms.ToTensor()\n",
        "    ])\n",
        "    # dataset = datasets.ImageFolder(root=os.path.join(data_dir), transform=mean_transform)\n",
        "    # loader = DataLoader(dataset, batch_size=32, shuffle=False, num_workers=num_workers)\n",
        "\n",
        "    ###############\n",
        "    ### PATCH 2 ###\n",
        "    ###############\n",
        "    train_dataset_for_stats = datasets.ImageFolder(root=os.path.join(data_dir), transform=mean_transform)\n",
        "    train_dataset_for_stats = torch.utils.data.Subset(train_dataset_for_stats, train_dataset.indices)\n",
        "    train_loader_for_stats = DataLoader(train_dataset_for_stats, batch_size=batch_size, shuffle=False, num_workers=num_workers)\n",
        "\n",
        "    mean = torch.zeros(3)\n",
        "    std = torch.zeros(3)\n",
        "    nb_samples = 0\n",
        "    for images, _ in train_loader_for_stats:\n",
        "        batch_samples = images.size(0)\n",
        "        images = images.view(batch_samples, 3, -1)\n",
        "        mean += images.mean(2).sum(0)\n",
        "        std += images.std(2).sum(0)\n",
        "        nb_samples += batch_samples\n",
        "    mean /= nb_samples\n",
        "    std /= nb_samples\n",
        "    print('Mean:', mean)\n",
        "    print('Std:', std)"
      ]
    },
    {
      "cell_type": "code",
      "execution_count": null,
      "metadata": {
        "colab": {
          "base_uri": "https://localhost:8080/"
        },
        "id": "CM-pOS5peSsL",
        "outputId": "5a13e2a0-0cd4-4590-9967-086e8d56c609"
      },
      "outputs": [
        {
          "output_type": "stream",
          "name": "stderr",
          "text": [
            "/usr/local/lib/python3.11/dist-packages/torchvision/models/_utils.py:208: UserWarning: The parameter 'pretrained' is deprecated since 0.13 and may be removed in the future, please use 'weights' instead.\n",
            "  warnings.warn(\n",
            "/usr/local/lib/python3.11/dist-packages/torchvision/models/_utils.py:223: UserWarning: Arguments other than a weight enum or `None` for 'weights' are deprecated since 0.13 and may be removed in the future. The current behavior is equivalent to passing `weights=ResNet18_Weights.IMAGENET1K_V1`. You can also use `weights=ResNet18_Weights.DEFAULT` to get the most up-to-date weights.\n",
            "  warnings.warn(msg)\n",
            "Downloading: \"https://download.pytorch.org/models/resnet18-f37072fd.pth\" to /root/.cache/torch/hub/checkpoints/resnet18-f37072fd.pth\n",
            "100%|██████████| 44.7M/44.7M [00:00<00:00, 52.0MB/s]\n"
          ]
        }
      ],
      "source": [
        "from torchvision.models import resnet18\n",
        "\n",
        "model = resnet18(pretrained=True)\n",
        "model = model.to(device)\n",
        "\n",
        "models_dir = 'models'\n",
        "os.makedirs(models_dir, exist_ok=True)\n",
        "model_save_path = os.path.join(models_dir, 'best_model.pth')"
      ]
    },
    {
      "cell_type": "code",
      "execution_count": null,
      "metadata": {
        "id": "-qKOgVHDeSsL"
      },
      "outputs": [],
      "source": [
        "criterion = nn.CrossEntropyLoss()\n",
        "optimizer = optim.Adam(model.parameters(), lr=learning_rate, weight_decay=0.00025)\n",
        "\n",
        "# Learning rate scheduler implementation\n",
        "scheduler = optim.lr_scheduler.CosineAnnealingLR(optimizer, T_max=num_epochs)"
      ]
    },
    {
      "cell_type": "code",
      "execution_count": null,
      "metadata": {
        "colab": {
          "base_uri": "https://localhost:8080/"
        },
        "id": "PMk9Gh3YeSsL",
        "outputId": "62276fb3-9519-4804-a304-9058115c3389"
      },
      "outputs": [
        {
          "output_type": "stream",
          "name": "stderr",
          "text": [
            "Epoch [1/10]: 100%|██████████| 638/638 [01:33<00:00,  6.83it/s, loss=0.445]\n",
            "Validation: 100%|██████████| 160/160 [00:16<00:00,  9.93it/s]\n"
          ]
        },
        {
          "output_type": "stream",
          "name": "stdout",
          "text": [
            "Epoch 1/10, Loss: 0.4968, Validation Accuracy: 0.8467, Test Accuracy: 0.8467\n",
            "Saved new best model at epoch 1\n"
          ]
        },
        {
          "output_type": "stream",
          "name": "stderr",
          "text": [
            "Epoch [2/10]: 100%|██████████| 638/638 [01:36<00:00,  6.62it/s, loss=0.247]\n",
            "Validation: 100%|██████████| 160/160 [00:17<00:00,  9.08it/s]\n"
          ]
        },
        {
          "output_type": "stream",
          "name": "stdout",
          "text": [
            "Epoch 2/10, Loss: 0.3960, Validation Accuracy: 0.8065, Test Accuracy: 0.8065\n"
          ]
        },
        {
          "output_type": "stream",
          "name": "stderr",
          "text": [
            "Epoch [3/10]: 100%|██████████| 638/638 [01:34<00:00,  6.78it/s, loss=0.295]\n",
            "Validation: 100%|██████████| 160/160 [00:16<00:00,  9.82it/s]\n"
          ]
        },
        {
          "output_type": "stream",
          "name": "stdout",
          "text": [
            "Epoch 3/10, Loss: 0.3353, Validation Accuracy: 0.8694, Test Accuracy: 0.8694\n",
            "Saved new best model at epoch 3\n"
          ]
        },
        {
          "output_type": "stream",
          "name": "stderr",
          "text": [
            "Epoch [4/10]: 100%|██████████| 638/638 [01:33<00:00,  6.82it/s, loss=0.0963]\n",
            "Validation: 100%|██████████| 160/160 [00:16<00:00,  9.76it/s]\n"
          ]
        },
        {
          "output_type": "stream",
          "name": "stdout",
          "text": [
            "Epoch 4/10, Loss: 0.2674, Validation Accuracy: 0.9010, Test Accuracy: 0.9010\n",
            "Saved new best model at epoch 4\n"
          ]
        },
        {
          "output_type": "stream",
          "name": "stderr",
          "text": [
            "Epoch [5/10]: 100%|██████████| 638/638 [01:35<00:00,  6.70it/s, loss=0.156]\n",
            "Validation: 100%|██████████| 160/160 [00:16<00:00,  9.90it/s]\n"
          ]
        },
        {
          "output_type": "stream",
          "name": "stdout",
          "text": [
            "Epoch 5/10, Loss: 0.2163, Validation Accuracy: 0.9473, Test Accuracy: 0.9473\n",
            "Saved new best model at epoch 5\n"
          ]
        },
        {
          "output_type": "stream",
          "name": "stderr",
          "text": [
            "Epoch [6/10]: 100%|██████████| 638/638 [01:33<00:00,  6.81it/s, loss=0.163]\n",
            "Validation: 100%|██████████| 160/160 [00:15<00:00, 10.03it/s]\n"
          ]
        },
        {
          "output_type": "stream",
          "name": "stdout",
          "text": [
            "Epoch 6/10, Loss: 0.1655, Validation Accuracy: 0.9480, Test Accuracy: 0.9480\n",
            "Saved new best model at epoch 6\n"
          ]
        },
        {
          "output_type": "stream",
          "name": "stderr",
          "text": [
            "Epoch [7/10]: 100%|██████████| 638/638 [01:35<00:00,  6.71it/s, loss=0.344]\n",
            "Validation: 100%|██████████| 160/160 [00:16<00:00,  9.98it/s]\n"
          ]
        },
        {
          "output_type": "stream",
          "name": "stdout",
          "text": [
            "Epoch 7/10, Loss: 0.1248, Validation Accuracy: 0.9671, Test Accuracy: 0.9671\n",
            "Saved new best model at epoch 7\n"
          ]
        },
        {
          "output_type": "stream",
          "name": "stderr",
          "text": [
            "Epoch [8/10]: 100%|██████████| 638/638 [01:33<00:00,  6.80it/s, loss=0.0946]\n",
            "Validation: 100%|██████████| 160/160 [00:16<00:00,  9.85it/s]\n"
          ]
        },
        {
          "output_type": "stream",
          "name": "stdout",
          "text": [
            "Epoch 8/10, Loss: 0.0848, Validation Accuracy: 0.9826, Test Accuracy: 0.9826\n",
            "Saved new best model at epoch 8\n"
          ]
        },
        {
          "output_type": "stream",
          "name": "stderr",
          "text": [
            "Epoch [9/10]: 100%|██████████| 638/638 [01:37<00:00,  6.55it/s, loss=0.45]\n",
            "Validation: 100%|██████████| 160/160 [00:16<00:00,  9.82it/s]\n"
          ]
        },
        {
          "output_type": "stream",
          "name": "stdout",
          "text": [
            "Epoch 9/10, Loss: 0.0593, Validation Accuracy: 0.9863, Test Accuracy: 0.9863\n",
            "Saved new best model at epoch 9\n"
          ]
        },
        {
          "output_type": "stream",
          "name": "stderr",
          "text": [
            "Epoch [10/10]: 100%|██████████| 638/638 [01:33<00:00,  6.84it/s, loss=0.0268]\n",
            "Validation: 100%|██████████| 160/160 [00:16<00:00,  9.92it/s]\n"
          ]
        },
        {
          "output_type": "stream",
          "name": "stdout",
          "text": [
            "Epoch 10/10, Loss: 0.0553, Validation Accuracy: 0.9839, Test Accuracy: 0.9839\n"
          ]
        }
      ],
      "source": [
        "# Store values for plot\n",
        "epoch_losses = []\n",
        "val_accuracies = []\n",
        "test_accuracies = []\n",
        "\n",
        "# variables for saving our best model\n",
        "best_val_accuracy = 0.0\n",
        "best_epoch = 0\n",
        "\n",
        "\n",
        "for epoch in range(num_epochs):\n",
        "    model.train()\n",
        "    running_loss = 0.0\n",
        "\n",
        "    #Training Loop\n",
        "    loop = tqdm.tqdm(train_loader, desc=f\"Epoch [{epoch+1}/{num_epochs}]\")\n",
        "    for images, labels in loop:\n",
        "        images, labels = images.to(device), labels.to(device)\n",
        "\n",
        "        optimizer.zero_grad()\n",
        "        outputs = model(images)\n",
        "        loss = criterion(outputs, labels)\n",
        "        loss.backward()\n",
        "        optimizer.step()\n",
        "\n",
        "        running_loss += loss.item()\n",
        "        loop.set_postfix(loss=loss.item())\n",
        "\n",
        "    scheduler.step() #LR implementation after every epoch\n",
        "    epoch_loss = running_loss / len(train_loader)\n",
        "    epoch_losses.append(epoch_loss) # store data to plot\n",
        "\n",
        "    #Validation Accuray\n",
        "    model.eval()\n",
        "    correct = 0\n",
        "    total = 0\n",
        "    with torch.no_grad():\n",
        "        val_loop = tqdm.tqdm(test_loader, desc=\"Validation\")\n",
        "        for images, labels in val_loop:\n",
        "            images, labels = images.to(device), labels.to(device)\n",
        "            outputs = model(images)\n",
        "            predictions = outputs.argmax(dim=1)\n",
        "            correct += (predictions == labels).sum().item()\n",
        "            total += labels.size(0)\n",
        "    val_accuracy = correct / total\n",
        "    val_accuracies.append(val_accuracy) # store data to plot\n",
        "\n",
        "    # Test Accuray\n",
        "    model.eval()\n",
        "    correct_test = 0\n",
        "    total_test = 0\n",
        "    with torch.no_grad():\n",
        "        for images, labels in test_loader:\n",
        "            images, labels = images.to(device), labels.to(device)\n",
        "            outputs = model(images)\n",
        "            predictions = outputs.argmax(dim=1)\n",
        "            correct_test += (predictions == labels).sum().item()\n",
        "            total_test += labels.size(0)\n",
        "    test_accuracy = correct_test / total_test\n",
        "    test_accuracies.append(test_accuracy) #store data to plot\n",
        "\n",
        "    print(f\"Epoch {epoch+1}/{num_epochs}, Loss: {epoch_loss:.4f}, Validation Accuracy: {val_accuracy:.4f}, Test Accuracy: {test_accuracy:.4f}\")\n",
        "\n",
        "    # save the best model based on validation acc.\n",
        "    if val_accuracy > best_val_accuracy:\n",
        "        best_val_accuracy = val_accuracy\n",
        "        best_epoch = epoch + 1\n",
        "        torch.save(model.state_dict(), model_save_path)\n",
        "        print(f\"Saved new best model at epoch {epoch+1}\")"
      ]
    },
    {
      "cell_type": "code",
      "execution_count": 26,
      "metadata": {
        "colab": {
          "base_uri": "https://localhost:8080/",
          "height": 504
        },
        "id": "3bOvXkoweSsL",
        "outputId": "336ac3ff-2850-4d39-d47e-9cd6ca8846c1"
      },
      "outputs": [
        {
          "output_type": "stream",
          "name": "stdout",
          "text": [
            "Plot saved to: ../output/training_validation_plot.png\n"
          ]
        },
        {
          "output_type": "display_data",
          "data": {
            "text/plain": [
              "<Figure size 640x480 with 2 Axes>"
            ],
            "image/png": "[encoded data removed]"
          },
          "metadata": {}
        }
      ],
      "source": [
        "plt.figure()\n",
        "\n",
        "# Loss Plot\n",
        "plt.subplot(1, 2, 1)\n",
        "plt.plot(range(1, num_epochs + 1), epoch_losses, marker='o', linestyle='-', color='b', label=\"Training Loss\")\n",
        "plt.xlabel(\"Epoch\")\n",
        "plt.ylabel(\"Loss\")\n",
        "plt.title(\"Training Loss Over Epochs\")\n",
        "plt.legend()\n",
        "\n",
        "# Accuracy Plot\n",
        "plt.subplot(1, 2, 2)\n",
        "plt.plot(range(1, num_epochs + 1), val_accuracies, marker='o', linestyle='-', color='g', label=\"Validation Accuracy\")\n",
        "plt.plot(range(1, num_epochs + 1), test_accuracies, marker='s', linestyle='-', color='r', label=\"Test Accuracy\")\n",
        "plt.xlabel(\"Epoch\")\n",
        "plt.ylabel(\"Accuracy\")\n",
        "plt.title(\"Validation & Test Accuracy Over Epochs\")\n",
        "plt.legend()\n",
        "\n",
        "plt.tight_layout()\n",
        "\n",
        "# Save the plot\n",
        "plot_path = os.path.join(output_dir, \"training_validation_plot.png\")\n",
        "plt.savefig(plot_path)\n",
        "print(\"Plot saved to:\", plot_path)\n",
        "\n",
        "plt.show()"
      ]
    },
    {
      "cell_type": "code",
      "execution_count": null,
      "metadata": {
        "colab": {
          "base_uri": "https://localhost:8080/",
          "height": 581
        },
        "id": "Is_ro3kceSsL",
        "outputId": "3f0e9d1e-3b6a-4f4c-b554-787f28f5962a"
      },
      "outputs": [
        {
          "output_type": "stream",
          "name": "stdout",
          "text": [
            "Total Accuracy: 0.986277200548912\n"
          ]
        },
        {
          "output_type": "display_data",
          "data": {
            "text/plain": [
              "<Figure size 800x600 with 2 Axes>"
            ],
            "image/png": "[encoded data removed]"
          },
          "metadata": {}
        }
      ],
      "source": [
        "state_dict = torch.load(model_save_path, map_location=device)\n",
        "model.load_state_dict(state_dict)\n",
        "\n",
        "model.eval()\n",
        "\n",
        "all_preds = []\n",
        "all_labels = []\n",
        "\n",
        "\n",
        "with torch.no_grad():\n",
        "    for images, labels in test_loader:\n",
        "        images = images.to(device)\n",
        "        outputs = model(images)\n",
        "        preds = outputs.argmax(dim=1).cpu().numpy()\n",
        "        all_preds.extend(preds)\n",
        "        all_labels.extend(labels.cpu().numpy())\n",
        "\n",
        "cm = confusion_matrix(all_labels, all_preds)\n",
        "\n",
        "accuracy = np.sum(np.array(all_preds) == np.array(all_labels)) / len(all_labels)\n",
        "print(\"Total Accuracy:\", accuracy)\n",
        "\n",
        "classes = ['CC', 'EC', 'HGSC', 'LGSC', 'MC']\n",
        "\n",
        "# Plot\n",
        "plt.figure(figsize=(8,6))\n",
        "sns.heatmap(cm, annot=True, fmt=\"d\", cmap=\"Blues\", xticklabels=classes, yticklabels=classes)\n",
        "plt.xlabel(\"Predicted\")\n",
        "plt.ylabel(\"True\")\n",
        "plt.title(\"Confusion Matrix\")\n",
        "plt.show()"
      ]
    }
  ],
  "metadata": {
    "kernelspec": {
      "display_name": "Python 3",
      "name": "python3"
    },
    "language_info": {
      "codemirror_mode": {
        "name": "ipython",
        "version": 3
      },
      "file_extension": ".py",
      "mimetype": "text/x-python",
      "name": "python",
      "nbconvert_exporter": "python",
      "pygments_lexer": "ipython3",
      "version": "3.12.4"
    },
    "colab": {
      "provenance": [],
      "gpuType": "A100"
    },
    "accelerator": "GPU"
  },
  "nbformat": 4,
  "nbformat_minor": 0
}
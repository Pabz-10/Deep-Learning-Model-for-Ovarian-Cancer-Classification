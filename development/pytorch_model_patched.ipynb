{
  "cells": [
    {
      "cell_type": "code",
      "execution_count": null,
      "metadata": {
        "colab": {
          "base_uri": "https://localhost:8080/"
        },
        "id": "i_POlxd3eSsG",
        "outputId": "143b1b39-e78f-4389-8b1a-b9fe60eb2075"
      },
      "outputs": [
        {
          "name": "stdout",
          "output_type": "stream",
          "text": [
            "Requirement already satisfied: kagglehub in c:\\users\\pabil\\desktop\\2025_1_project_04\\venv\\lib\\site-packages (0.3.10)\n",
            "Requirement already satisfied: packaging in c:\\users\\pabil\\desktop\\2025_1_project_04\\venv\\lib\\site-packages (from kagglehub) (24.2)\n",
            "Requirement already satisfied: pyyaml in c:\\users\\pabil\\desktop\\2025_1_project_04\\venv\\lib\\site-packages (from kagglehub) (6.0.2)\n",
            "Requirement already satisfied: requests in c:\\users\\pabil\\desktop\\2025_1_project_04\\venv\\lib\\site-packages (from kagglehub) (2.32.3)\n",
            "Requirement already satisfied: tqdm in c:\\users\\pabil\\desktop\\2025_1_project_04\\venv\\lib\\site-packages (from kagglehub) (4.67.1)\n",
            "Requirement already satisfied: charset-normalizer<4,>=2 in c:\\users\\pabil\\desktop\\2025_1_project_04\\venv\\lib\\site-packages (from requests->kagglehub) (3.4.1)\n",
            "Requirement already satisfied: idna<4,>=2.5 in c:\\users\\pabil\\desktop\\2025_1_project_04\\venv\\lib\\site-packages (from requests->kagglehub) (3.10)\n",
            "Requirement already satisfied: urllib3<3,>=1.21.1 in c:\\users\\pabil\\desktop\\2025_1_project_04\\venv\\lib\\site-packages (from requests->kagglehub) (2.3.0)\n",
            "Requirement already satisfied: certifi>=2017.4.17 in c:\\users\\pabil\\desktop\\2025_1_project_04\\venv\\lib\\site-packages (from requests->kagglehub) (2025.1.31)\n",
            "Requirement already satisfied: colorama in c:\\users\\pabil\\desktop\\2025_1_project_04\\venv\\lib\\site-packages (from tqdm->kagglehub) (0.4.6)\n"
          ]
        },
        {
          "name": "stderr",
          "output_type": "stream",
          "text": [
            "\n",
            "[notice] A new release of pip available: 22.3.1 -> 25.0.1\n",
            "[notice] To update, run: python.exe -m pip install --upgrade pip\n"
          ]
        }
      ],
      "source": [
        "# install kagglehub\n",
        "!pip install kagglehub"
      ]
    },
    {
      "cell_type": "markdown",
      "metadata": {
        "id": "p9FwrZpBeSsH"
      },
      "source": [
        "GET AND CHECK DATA"
      ]
    },
    {
      "cell_type": "code",
      "execution_count": null,
      "metadata": {
        "colab": {
          "base_uri": "https://localhost:8080/"
        },
        "id": "V_A7mFDFeSsI",
        "outputId": "e9d6a8cf-115b-408e-cbe6-811f1a1ba66c"
      },
      "outputs": [
        {
          "name": "stdout",
          "output_type": "stream",
          "text": [
            "Downloading from https://www.kaggle.com/api/v1/datasets/download/darshue/extracted-images?dataset_version_number=19...\n"
          ]
        },
        {
          "name": "stderr",
          "output_type": "stream",
          "text": [
            "100%|██████████| 3.40G/3.40G [00:33<00:00, 108MB/s] "
          ]
        },
        {
          "name": "stdout",
          "output_type": "stream",
          "text": [
            "Extracting files...\n"
          ]
        },
        {
          "name": "stderr",
          "output_type": "stream",
          "text": [
            "\n"
          ]
        },
        {
          "name": "stdout",
          "output_type": "stream",
          "text": [
            "Path to dataset files: /root/.cache/kagglehub/datasets/darshue/extracted-images/versions/19\n"
          ]
        }
      ],
      "source": [
        "import kagglehub\n",
        "\n",
        "# Download latest version\n",
        "path = kagglehub.dataset_download(\"darshue/extracted-images\")\n",
        "print(\"Path to dataset files:\", path)"
      ]
    },
    {
      "cell_type": "markdown",
      "metadata": {
        "id": "RJd3klKzeSsI"
      },
      "source": [
        "If you're training the model using colab use the bottom  command to install the datasets. You'll need your kaggle api key which you can generate in your account settings at kaggle. Download the api key and paste the key when prompted to download the dataset"
      ]
    },
    {
      "cell_type": "code",
      "execution_count": null,
      "metadata": {
        "colab": {
          "base_uri": "https://localhost:8080/"
        },
        "id": "if5AvmS0eSsI",
        "outputId": "1e300ed4-0685-4fac-8507-ec700dae3333"
      },
      "outputs": [
        {
          "name": "stdout",
          "output_type": "stream",
          "text": [
            "Collecting opendatasets\n",
            "  Downloading opendatasets-0.1.22-py3-none-any.whl.metadata (9.2 kB)\n",
            "Requirement already satisfied: tqdm in /usr/local/lib/python3.11/dist-packages (from opendatasets) (4.67.1)\n",
            "Requirement already satisfied: kaggle in /usr/local/lib/python3.11/dist-packages (from opendatasets) (1.7.4.2)\n",
            "Requirement already satisfied: click in /usr/local/lib/python3.11/dist-packages (from opendatasets) (8.1.8)\n",
            "Requirement already satisfied: bleach in /usr/local/lib/python3.11/dist-packages (from kaggle->opendatasets) (6.2.0)\n",
            "Requirement already satisfied: certifi>=14.05.14 in /usr/local/lib/python3.11/dist-packages (from kaggle->opendatasets) (2025.1.31)\n",
            "Requirement already satisfied: charset-normalizer in /usr/local/lib/python3.11/dist-packages (from kaggle->opendatasets) (3.4.1)\n",
            "Requirement already satisfied: idna in /usr/local/lib/python3.11/dist-packages (from kaggle->opendatasets) (3.10)\n",
            "Requirement already satisfied: protobuf in /usr/local/lib/python3.11/dist-packages (from kaggle->opendatasets) (5.29.4)\n",
            "Requirement already satisfied: python-dateutil>=2.5.3 in /usr/local/lib/python3.11/dist-packages (from kaggle->opendatasets) (2.8.2)\n",
            "Requirement already satisfied: python-slugify in /usr/local/lib/python3.11/dist-packages (from kaggle->opendatasets) (8.0.4)\n",
            "Requirement already satisfied: requests in /usr/local/lib/python3.11/dist-packages (from kaggle->opendatasets) (2.32.3)\n",
            "Requirement already satisfied: setuptools>=21.0.0 in /usr/local/lib/python3.11/dist-packages (from kaggle->opendatasets) (75.2.0)\n",
            "Requirement already satisfied: six>=1.10 in /usr/local/lib/python3.11/dist-packages (from kaggle->opendatasets) (1.17.0)\n",
            "Requirement already satisfied: text-unidecode in /usr/local/lib/python3.11/dist-packages (from kaggle->opendatasets) (1.3)\n",
            "Requirement already satisfied: urllib3>=1.15.1 in /usr/local/lib/python3.11/dist-packages (from kaggle->opendatasets) (2.3.0)\n",
            "Requirement already satisfied: webencodings in /usr/local/lib/python3.11/dist-packages (from kaggle->opendatasets) (0.5.1)\n",
            "Downloading opendatasets-0.1.22-py3-none-any.whl (15 kB)\n",
            "Installing collected packages: opendatasets\n",
            "Successfully installed opendatasets-0.1.22\n",
            "Please provide your Kaggle credentials to download this dataset. Learn more: http://bit.ly/kaggle-creds\n",
            "Your Kaggle username: abielkim\n",
            "Your Kaggle Key: ··········\n",
            "Dataset URL: https://www.kaggle.com/datasets/darshue/extracted-images\n"
          ]
        }
      ],
      "source": [
        "#Run this command only if using Colab\n",
        "!pip install opendatasets\n",
        "import opendatasets as od\n",
        "od.download(\"https://www.kaggle.com/datasets/darshue/extracted-images\")"
      ]
    },
    {
      "cell_type": "markdown",
      "metadata": {
        "id": "Tcds71cmeSsI"
      },
      "source": [
        "The code below checks if youre dataset has been installed at the correct path"
      ]
    },
    {
      "cell_type": "code",
      "execution_count": null,
      "metadata": {
        "colab": {
          "base_uri": "https://localhost:8080/"
        },
        "id": "sXetCohneSsI",
        "outputId": "c3facb16-35ef-4f1f-d9e1-7a0f85703247"
      },
      "outputs": [
        {
          "name": "stdout",
          "output_type": "stream",
          "text": [
            "Path exists: True\n",
            "Contents: ['LGSC', 'CC', 'MC', 'HGSC', 'EC']\n"
          ]
        }
      ],
      "source": [
        "import os\n",
        "\n",
        "#check if running colab\n",
        "is_colab = True\n",
        "if is_colab:\n",
        "    data_dir = './extracted-images/train/'\n",
        "else:\n",
        "    data_dir = \"../data/train/\"\n",
        "\n",
        "# if images were downloaded and extracted properly, will print true and list the 5 sub classes\n",
        "print(\"Path exists:\", os.path.exists(data_dir))\n",
        "print(\"Contents:\", os.listdir(data_dir)) \n",
        "\n",
        "output_dir = '../output'\n",
        "os.makedirs(output_dir, exist_ok=True)"
      ]
    },
    {
      "cell_type": "markdown",
      "metadata": {
        "id": "W3yA5W12eSsJ"
      },
      "source": [
        "IMPORTS AND DEVICE"
      ]
    },
    {
      "cell_type": "code",
      "execution_count": null,
      "metadata": {
        "id": "8mWM6UkeeSsJ"
      },
      "outputs": [],
      "source": [
        "import torch\n",
        "import os\n",
        "import os.path\n",
        "import numpy as np\n",
        "import sys\n",
        "import torchvision\n",
        "import torchvision.transforms as transforms\n",
        "from torchvision import datasets\n",
        "import tqdm\n",
        "import torch.nn as nn\n",
        "import torch.optim as optim\n",
        "import matplotlib.pyplot as plt\n",
        "import torch.nn.functional as F\n",
        "from torch.utils.data import DataLoader\n",
        "from torch.utils.data import Dataset\n",
        "import torchvision.datasets as datasets\n",
        "import seaborn as sns\n",
        "from sklearn.metrics import confusion_matrix\n",
        "\n",
        "np.random.seed(111)\n",
        "torch.manual_seed(111)\n",
        "torch.cuda.manual_seed_all(111)"
      ]
    },
    {
      "cell_type": "code",
      "execution_count": null,
      "metadata": {
        "colab": {
          "base_uri": "https://localhost:8080/"
        },
        "id": "vfCM5V7geSsJ",
        "outputId": "b05608a7-0f71-4420-a03d-5864dd64256c"
      },
      "outputs": [
        {
          "name": "stdout",
          "output_type": "stream",
          "text": [
            "CUDA available\n",
            "Device:  cuda\n"
          ]
        }
      ],
      "source": [
        "# Checks if GPU is available if not uses CPU\n",
        "if torch.cuda.is_available():\n",
        "    print(\"CUDA available\")\n",
        "    device = torch.device(\"cuda\")\n",
        "else:\n",
        "    print(\"CUDA not available\")\n",
        "    device = torch.device(\"cpu\")\n",
        "print(\"Device: \", device)"
      ]
    },
    {
      "cell_type": "code",
      "execution_count": null,
      "metadata": {
        "id": "eSRMen9OeSsK"
      },
      "outputs": [],
      "source": [
        "# Ratio of the dataset to use for training (80% train, 20% test)\n",
        "train_test_split = 0.8\n",
        "\n",
        "# Number of samples per batch during training\n",
        "batch_size = 32\n",
        "\n",
        "# Total number of times the entire training dataset will be passed through the model\n",
        "num_epochs = 25\n",
        "\n",
        "# Learning rate used by the optimizer to update weights\n",
        "learning_rate = 0.001\n",
        "\n",
        "# Number of output classes 5 in our case \n",
        "num_classes = 5\n",
        "\n",
        "# Number of subprocesses to use for data loading\n",
        "# If running in Google Colab, use more workers; otherwise, use 1 to avoid system issues\n",
        "if is_colab:\n",
        "    num_workers = 4\n",
        "else:\n",
        "    num_workers = 1\n"
      ]
    },
    {
      "cell_type": "code",
      "execution_count": null,
      "metadata": {
        "id": "xbDa-2h7eSsK"
      },
      "outputs": [],
      "source": [
        "# Mean pixel Value and Standard Deviation for each RBG channel \n",
        "mean = [0.8078, 0.6700, 0.8138]\n",
        "std = [0.0925, 0.1142, 0.0710]"
      ]
    },
    {
      "cell_type": "code",
      "execution_count": null,
      "metadata": {
        "id": "QkvzUj-peSsK"
      },
      "outputs": [],
      "source": [
        "# Transformations applied to the training dataset\n",
        "train_transform = transforms.Compose([\n",
        "    transforms.Resize((496, 496)),\n",
        "    transforms.RandomCrop(480),\n",
        "    transforms.RandomHorizontalFlip(),\n",
        "    transforms.RandomRotation(10),\n",
        "    transforms.RandomAffine(degrees=0, translate=(0.1, 0.1)),\n",
        "    transforms.ColorJitter(brightness=0.2, contrast=0.2),\n",
        "    transforms.ToTensor(),\n",
        "    transforms\n",
        "    .Normalize(mean, std)\n",
        "])\n",
        "## Transformations applied to the training dataset\n",
        "test_transform = transforms.Compose([\n",
        "    #transforms.Grayscale(num_output_channels=1),\n",
        "    transforms.Resize((496, 496)),\n",
        "    transforms.ToTensor(),\n",
        "    transforms.Normalize(mean, std)\n",
        "])"
      ]
    },
    {
      "cell_type": "code",
      "execution_count": null,
      "metadata": {
        "colab": {
          "base_uri": "https://localhost:8080/"
        },
        "id": "KNTgs9AveSsK",
        "outputId": "25b5cde8-cfa2-40f1-e9df-e6ff8ede2212"
      },
      "outputs": [
        {
          "name": "stdout",
          "output_type": "stream",
          "text": [
            "Number of training samples: 20402\n",
            "Number of testing samples: 5101\n"
          ]
        }
      ],
      "source": [
        "#########################################\n",
        "### PATCH 1: DATA PREPROCESSING LAYER ###\n",
        "#########################################\n",
        "\n",
        "# Loads training and test dataset using ImageFoler class\n",
        "train_base_dataset = datasets.ImageFolder(root=os.path.join(data_dir))\n",
        "test_base_dataset = datasets.ImageFolder(root=os.path.join(data_dir))\n",
        "\n",
        "# Create a list of indices for the entire training dataset and calculate the split sizes\n",
        "# Split the dataset into training and testing samples based on the train_test_split ratio\n",
        "full_indices = list(range(len(train_base_dataset)))\n",
        "train_size = int(train_test_split * len(train_base_dataset))\n",
        "test_size = len(test_base_dataset) - train_size\n",
        "\n",
        "# Shuffle the indices randomly to ensure a random split between training and testing datasets\n",
        "import random\n",
        "random.shuffle(full_indices)\n",
        "\n",
        "# Split the indices into training and testing sets based on the calculated sizes\n",
        "train_indices = full_indices[:train_size]\n",
        "test_indices = full_indices[train_size:]\n",
        "\n",
        "# Create subsets of the original dataset using the split indices for training and testing\n",
        "train_dataset = torch.utils.data.Subset(train_base_dataset, train_indices)\n",
        "test_dataset = torch.utils.data.Subset(test_base_dataset, test_indices)\n",
        "\n",
        "# Explicitly set each transform separately to prevent data leakage\n",
        "train_dataset.dataset.transform = train_transform\n",
        "test_dataset.dataset.transform = test_transform\n",
        "\n",
        "# Creates DataLoader for the training and testing datsets respectively. \n",
        "train_loader = DataLoader(train_dataset, batch_size=batch_size, shuffle=True, num_workers=num_workers)\n",
        "test_loader = DataLoader(test_dataset, batch_size=batch_size, shuffle=False, num_workers=num_workers)\n",
        "\n",
        "# Prints the number of samples in both datasets\n",
        "print('Number of training samples:', len(train_loader.dataset))\n",
        "print('Number of testing samples:', len(test_loader.dataset))\n",
        "\n",
        "# Defines the classes for classification\n",
        "classes = ['CC', 'EC', 'HGSC', 'LGSC', 'MC']\n"
      ]
    },
    {
      "cell_type": "code",
      "execution_count": null,
      "metadata": {
        "id": "_Bp59vOZeSsK"
      },
      "outputs": [],
      "source": [
        "# Create a transform to resize images to 496x496 pixels and convert to tensort format\n",
        "\n",
        "if False:\n",
        "    mean_transform = transforms.Compose([\n",
        "        transforms.Resize((496, 496)),\n",
        "        transforms.ToTensor()\n",
        "    ])\n",
        "\n",
        "\n",
        "    ###############\n",
        "    ### PATCH 2 ###\n",
        "    ###############\n",
        "    \n",
        "    #Load the dataset with transformations to compute mean and std \n",
        "    train_dataset_for_stats = datasets.ImageFolder(root=os.path.join(data_dir), transform=mean_transform)\n",
        "\n",
        "    # Subset the dataset to only include images from the train dataset\n",
        "    train_dataset_for_stats = torch.utils.data.Subset(train_dataset_for_stats, train_dataset.indices)\n",
        "\n",
        "    # Create a DataLoader for the stats dataset\n",
        "    train_loader_for_stats = DataLoader(train_dataset_for_stats, batch_size=batch_size, shuffle=False, num_workers=num_workers)\n",
        "\n",
        "    # initialize mean std values and # of samples counter\n",
        "    mean = torch.zeros(3)\n",
        "    std = torch.zeros(3)\n",
        "    nb_samples = 0\n",
        "\n",
        "    # Loop through dataset calculating the mean and std per channel\n",
        "    for images, _ in train_loader_for_stats:\n",
        "        batch_samples = images.size(0)\n",
        "        images = images.view(batch_samples, 3, -1)\n",
        "        mean += images.mean(2).sum(0)\n",
        "        std += images.std(2).sum(0)\n",
        "        nb_samples += batch_samples\n",
        "    \n",
        "    # Get average mean and std values over all samples\n",
        "    mean /= nb_samples\n",
        "    std /= nb_samples\n",
        "\n",
        "    # Output the computed means\n",
        "    print('Mean:', mean)\n",
        "    print('Std:', std)"
      ]
    },
    {
      "cell_type": "code",
      "execution_count": null,
      "metadata": {
        "colab": {
          "base_uri": "https://localhost:8080/"
        },
        "id": "CM-pOS5peSsL",
        "outputId": "3baba8cf-53c3-43fe-abcd-e8e166698ba1"
      },
      "outputs": [
        {
          "name": "stderr",
          "output_type": "stream",
          "text": [
            "/usr/local/lib/python3.11/dist-packages/torchvision/models/_utils.py:208: UserWarning: The parameter 'pretrained' is deprecated since 0.13 and may be removed in the future, please use 'weights' instead.\n",
            "  warnings.warn(\n",
            "/usr/local/lib/python3.11/dist-packages/torchvision/models/_utils.py:223: UserWarning: Arguments other than a weight enum or `None` for 'weights' are deprecated since 0.13 and may be removed in the future. The current behavior is equivalent to passing `weights=ResNet18_Weights.IMAGENET1K_V1`. You can also use `weights=ResNet18_Weights.DEFAULT` to get the most up-to-date weights.\n",
            "  warnings.warn(msg)\n"
          ]
        }
      ],
      "source": [
        "# Import pre trained ResNEt18 model from torchvision\n",
        "from torchvision.models import resnet18\n",
        "\n",
        "# Load the model and move it the specific device GPU/CPU for training\n",
        "model = resnet18(pretrained=True)\n",
        "model = model.to(device)\n",
        "\n",
        "# Create directory to save the models\n",
        "models_dir = 'models'\n",
        "os.makedirs(models_dir, exist_ok=True)\n",
        "\n",
        "# Defines path where model will be saved\n",
        "model_save_path = os.path.join(models_dir, 'best_model.pth')"
      ]
    },
    {
      "cell_type": "code",
      "execution_count": null,
      "metadata": {
        "id": "-qKOgVHDeSsL"
      },
      "outputs": [],
      "source": [
        "# Define the loss function \n",
        "criterion = nn.CrossEntropyLoss()\n",
        "\n",
        "# Setup Adam optimizer\n",
        "optimizer = optim.Adam(model.parameters(), lr=learning_rate, weight_decay=0.00025)\n",
        "\n",
        "# Setup learning rate scheduler using CosineAnnealingLR\n",
        "scheduler = optim.lr_scheduler.CosineAnnealingLR(optimizer, T_max=num_epochs)"
      ]
    },
    {
      "cell_type": "code",
      "execution_count": null,
      "metadata": {
        "colab": {
          "base_uri": "https://localhost:8080/"
        },
        "id": "PMk9Gh3YeSsL",
        "outputId": "9401212d-0891-49ae-d863-3c526ffdae85"
      },
      "outputs": [
        {
          "name": "stderr",
          "output_type": "stream",
          "text": [
            "Epoch [1/25]: 100%|██████████| 638/638 [01:35<00:00,  6.65it/s, loss=0.22]\n",
            "Validation: 100%|██████████| 160/160 [00:16<00:00,  9.74it/s]\n"
          ]
        },
        {
          "name": "stdout",
          "output_type": "stream",
          "text": [
            "Epoch 1/25, Loss: 0.7621, Validation Accuracy: 0.7679, Test Accuracy: 0.7679\n",
            "Saved new best model at epoch 1\n"
          ]
        },
        {
          "name": "stderr",
          "output_type": "stream",
          "text": [
            "Epoch [2/25]: 100%|██████████| 638/638 [01:34<00:00,  6.75it/s, loss=0.571]\n",
            "Validation: 100%|██████████| 160/160 [00:16<00:00,  9.87it/s]\n"
          ]
        },
        {
          "name": "stdout",
          "output_type": "stream",
          "text": [
            "Epoch 2/25, Loss: 0.4776, Validation Accuracy: 0.7285, Test Accuracy: 0.7285\n"
          ]
        },
        {
          "name": "stderr",
          "output_type": "stream",
          "text": [
            "Epoch [3/25]: 100%|██████████| 638/638 [01:34<00:00,  6.77it/s, loss=0.54]\n",
            "Validation: 100%|██████████| 160/160 [00:16<00:00,  9.76it/s]\n"
          ]
        },
        {
          "name": "stdout",
          "output_type": "stream",
          "text": [
            "Epoch 3/25, Loss: 0.4033, Validation Accuracy: 0.8606, Test Accuracy: 0.8606\n",
            "Saved new best model at epoch 3\n"
          ]
        },
        {
          "name": "stderr",
          "output_type": "stream",
          "text": [
            "Epoch [4/25]: 100%|██████████| 638/638 [01:34<00:00,  6.76it/s, loss=0.347]\n",
            "Validation: 100%|██████████| 160/160 [00:16<00:00,  9.87it/s]\n"
          ]
        },
        {
          "name": "stdout",
          "output_type": "stream",
          "text": [
            "Epoch 4/25, Loss: 0.3752, Validation Accuracy: 0.8922, Test Accuracy: 0.8922\n",
            "Saved new best model at epoch 4\n"
          ]
        },
        {
          "name": "stderr",
          "output_type": "stream",
          "text": [
            "Epoch [5/25]: 100%|██████████| 638/638 [01:35<00:00,  6.67it/s, loss=0.573]\n",
            "Validation: 100%|██████████| 160/160 [00:16<00:00,  9.77it/s]\n"
          ]
        },
        {
          "name": "stdout",
          "output_type": "stream",
          "text": [
            "Epoch 5/25, Loss: 0.3440, Validation Accuracy: 0.7075, Test Accuracy: 0.7075\n"
          ]
        },
        {
          "name": "stderr",
          "output_type": "stream",
          "text": [
            "Epoch [6/25]: 100%|██████████| 638/638 [01:33<00:00,  6.80it/s, loss=0.84]\n",
            "Validation: 100%|██████████| 160/160 [00:16<00:00,  9.85it/s]\n"
          ]
        },
        {
          "name": "stdout",
          "output_type": "stream",
          "text": [
            "Epoch 6/25, Loss: 0.3144, Validation Accuracy: 0.9359, Test Accuracy: 0.9359\n",
            "Saved new best model at epoch 6\n"
          ]
        },
        {
          "name": "stderr",
          "output_type": "stream",
          "text": [
            "Epoch [7/25]: 100%|██████████| 638/638 [01:33<00:00,  6.85it/s, loss=0.056]\n",
            "Validation: 100%|██████████| 160/160 [00:16<00:00,  9.85it/s]\n"
          ]
        },
        {
          "name": "stdout",
          "output_type": "stream",
          "text": [
            "Epoch 7/25, Loss: 0.2822, Validation Accuracy: 0.8920, Test Accuracy: 0.8920\n"
          ]
        },
        {
          "name": "stderr",
          "output_type": "stream",
          "text": [
            "Epoch [8/25]: 100%|██████████| 638/638 [01:33<00:00,  6.80it/s, loss=0.35]\n",
            "Validation: 100%|██████████| 160/160 [00:16<00:00,  9.83it/s]\n"
          ]
        },
        {
          "name": "stdout",
          "output_type": "stream",
          "text": [
            "Epoch 8/25, Loss: 0.2629, Validation Accuracy: 0.8904, Test Accuracy: 0.8904\n"
          ]
        },
        {
          "name": "stderr",
          "output_type": "stream",
          "text": [
            "Epoch [9/25]: 100%|██████████| 638/638 [01:34<00:00,  6.74it/s, loss=0.548]\n",
            "Validation: 100%|██████████| 160/160 [00:16<00:00,  9.82it/s]\n"
          ]
        },
        {
          "name": "stdout",
          "output_type": "stream",
          "text": [
            "Epoch 9/25, Loss: 0.2359, Validation Accuracy: 0.8704, Test Accuracy: 0.8704\n"
          ]
        },
        {
          "name": "stderr",
          "output_type": "stream",
          "text": [
            "Epoch [10/25]: 100%|██████████| 638/638 [01:33<00:00,  6.80it/s, loss=0.0709]\n",
            "Validation: 100%|██████████| 160/160 [00:16<00:00,  9.80it/s]\n"
          ]
        },
        {
          "name": "stdout",
          "output_type": "stream",
          "text": [
            "Epoch 10/25, Loss: 0.2073, Validation Accuracy: 0.9555, Test Accuracy: 0.9555\n",
            "Saved new best model at epoch 10\n"
          ]
        },
        {
          "name": "stderr",
          "output_type": "stream",
          "text": [
            "Epoch [11/25]: 100%|██████████| 638/638 [01:34<00:00,  6.75it/s, loss=0.157]\n",
            "Validation: 100%|██████████| 160/160 [00:16<00:00,  9.88it/s]\n"
          ]
        },
        {
          "name": "stdout",
          "output_type": "stream",
          "text": [
            "Epoch 11/25, Loss: 0.1879, Validation Accuracy: 0.9298, Test Accuracy: 0.9298\n"
          ]
        },
        {
          "name": "stderr",
          "output_type": "stream",
          "text": [
            "Epoch [12/25]: 100%|██████████| 638/638 [01:33<00:00,  6.80it/s, loss=0.112]\n",
            "Validation: 100%|██████████| 160/160 [00:16<00:00,  9.66it/s]\n"
          ]
        },
        {
          "name": "stdout",
          "output_type": "stream",
          "text": [
            "Epoch 12/25, Loss: 0.1588, Validation Accuracy: 0.9514, Test Accuracy: 0.9514\n"
          ]
        },
        {
          "name": "stderr",
          "output_type": "stream",
          "text": [
            "Epoch [13/25]: 100%|██████████| 638/638 [01:34<00:00,  6.74it/s, loss=0.315]\n",
            "Validation: 100%|██████████| 160/160 [00:16<00:00,  9.70it/s]\n"
          ]
        },
        {
          "name": "stdout",
          "output_type": "stream",
          "text": [
            "Epoch 13/25, Loss: 0.1561, Validation Accuracy: 0.9488, Test Accuracy: 0.9488\n"
          ]
        },
        {
          "name": "stderr",
          "output_type": "stream",
          "text": [
            "Epoch [14/25]: 100%|██████████| 638/638 [01:34<00:00,  6.73it/s, loss=0.172]\n",
            "Validation: 100%|██████████| 160/160 [00:16<00:00,  9.71it/s]\n"
          ]
        },
        {
          "name": "stdout",
          "output_type": "stream",
          "text": [
            "Epoch 14/25, Loss: 0.1311, Validation Accuracy: 0.9751, Test Accuracy: 0.9751\n",
            "Saved new best model at epoch 14\n"
          ]
        },
        {
          "name": "stderr",
          "output_type": "stream",
          "text": [
            "Epoch [15/25]: 100%|██████████| 638/638 [01:34<00:00,  6.77it/s, loss=0.0655]\n",
            "Validation: 100%|██████████| 160/160 [00:16<00:00,  9.80it/s]\n"
          ]
        },
        {
          "name": "stdout",
          "output_type": "stream",
          "text": [
            "Epoch 15/25, Loss: 0.1135, Validation Accuracy: 0.9714, Test Accuracy: 0.9714\n"
          ]
        },
        {
          "name": "stderr",
          "output_type": "stream",
          "text": [
            "Epoch [16/25]: 100%|██████████| 638/638 [01:34<00:00,  6.77it/s, loss=0.0983]\n",
            "Validation: 100%|██████████| 160/160 [00:16<00:00,  9.94it/s]\n"
          ]
        },
        {
          "name": "stdout",
          "output_type": "stream",
          "text": [
            "Epoch 16/25, Loss: 0.1043, Validation Accuracy: 0.9720, Test Accuracy: 0.9720\n"
          ]
        },
        {
          "name": "stderr",
          "output_type": "stream",
          "text": [
            "Epoch [17/25]: 100%|██████████| 638/638 [01:36<00:00,  6.63it/s, loss=0.136]\n",
            "Validation: 100%|██████████| 160/160 [00:16<00:00,  9.80it/s]\n"
          ]
        },
        {
          "name": "stdout",
          "output_type": "stream",
          "text": [
            "Epoch 17/25, Loss: 0.0859, Validation Accuracy: 0.9782, Test Accuracy: 0.9782\n",
            "Saved new best model at epoch 17\n"
          ]
        },
        {
          "name": "stderr",
          "output_type": "stream",
          "text": [
            "Epoch [18/25]: 100%|██████████| 638/638 [01:34<00:00,  6.74it/s, loss=0.104]\n",
            "Validation: 100%|██████████| 160/160 [00:16<00:00,  9.79it/s]\n"
          ]
        },
        {
          "name": "stdout",
          "output_type": "stream",
          "text": [
            "Epoch 18/25, Loss: 0.0722, Validation Accuracy: 0.9835, Test Accuracy: 0.9835\n",
            "Saved new best model at epoch 18\n"
          ]
        },
        {
          "name": "stderr",
          "output_type": "stream",
          "text": [
            "Epoch [19/25]: 100%|██████████| 638/638 [01:34<00:00,  6.72it/s, loss=0.026]\n",
            "Validation: 100%|██████████| 160/160 [00:16<00:00,  9.73it/s]\n"
          ]
        },
        {
          "name": "stdout",
          "output_type": "stream",
          "text": [
            "Epoch 19/25, Loss: 0.0627, Validation Accuracy: 0.9886, Test Accuracy: 0.9886\n",
            "Saved new best model at epoch 19\n"
          ]
        },
        {
          "name": "stderr",
          "output_type": "stream",
          "text": [
            "Epoch [20/25]: 100%|██████████| 638/638 [01:35<00:00,  6.71it/s, loss=0.192]\n",
            "Validation: 100%|██████████| 160/160 [00:16<00:00,  9.84it/s]\n"
          ]
        },
        {
          "name": "stdout",
          "output_type": "stream",
          "text": [
            "Epoch 20/25, Loss: 0.0516, Validation Accuracy: 0.9875, Test Accuracy: 0.9875\n"
          ]
        },
        {
          "name": "stderr",
          "output_type": "stream",
          "text": [
            "Epoch [21/25]: 100%|██████████| 638/638 [01:34<00:00,  6.77it/s, loss=0.0786]\n",
            "Validation: 100%|██████████| 160/160 [00:16<00:00,  9.82it/s]\n"
          ]
        },
        {
          "name": "stdout",
          "output_type": "stream",
          "text": [
            "Epoch 21/25, Loss: 0.0428, Validation Accuracy: 0.9920, Test Accuracy: 0.9920\n",
            "Saved new best model at epoch 21\n"
          ]
        },
        {
          "name": "stderr",
          "output_type": "stream",
          "text": [
            "Epoch [22/25]: 100%|██████████| 638/638 [01:34<00:00,  6.77it/s, loss=0.429]\n",
            "Validation: 100%|██████████| 160/160 [00:16<00:00,  9.74it/s]\n"
          ]
        },
        {
          "name": "stdout",
          "output_type": "stream",
          "text": [
            "Epoch 22/25, Loss: 0.0413, Validation Accuracy: 0.9922, Test Accuracy: 0.9922\n",
            "Saved new best model at epoch 22\n"
          ]
        },
        {
          "name": "stderr",
          "output_type": "stream",
          "text": [
            "Epoch [23/25]: 100%|██████████| 638/638 [01:34<00:00,  6.75it/s, loss=0.00611]\n",
            "Validation: 100%|██████████| 160/160 [00:16<00:00,  9.79it/s]\n"
          ]
        },
        {
          "name": "stdout",
          "output_type": "stream",
          "text": [
            "Epoch 23/25, Loss: 0.0310, Validation Accuracy: 0.9931, Test Accuracy: 0.9931\n",
            "Saved new best model at epoch 23\n"
          ]
        },
        {
          "name": "stderr",
          "output_type": "stream",
          "text": [
            "Epoch [24/25]: 100%|██████████| 638/638 [01:34<00:00,  6.77it/s, loss=0.057]\n",
            "Validation: 100%|██████████| 160/160 [00:16<00:00,  9.65it/s]\n"
          ]
        },
        {
          "name": "stdout",
          "output_type": "stream",
          "text": [
            "Epoch 24/25, Loss: 0.0279, Validation Accuracy: 0.9935, Test Accuracy: 0.9935\n",
            "Saved new best model at epoch 24\n"
          ]
        },
        {
          "name": "stderr",
          "output_type": "stream",
          "text": [
            "Epoch [25/25]: 100%|██████████| 638/638 [01:34<00:00,  6.72it/s, loss=0.129]\n",
            "Validation: 100%|██████████| 160/160 [00:16<00:00,  9.72it/s]\n"
          ]
        },
        {
          "name": "stdout",
          "output_type": "stream",
          "text": [
            "Epoch 25/25, Loss: 0.0265, Validation Accuracy: 0.9943, Test Accuracy: 0.9943\n",
            "Saved new best model at epoch 25\n"
          ]
        }
      ],
      "source": [
        "# Stores values required for plotting\n",
        "epoch_losses = []\n",
        "val_accuracies = []\n",
        "test_accuracies = []\n",
        "\n",
        "# Variables used to save our best model based on validation accuracy\n",
        "best_val_accuracy = 0.0\n",
        "best_epoch = 0\n",
        "\n",
        "# Begin training loop\n",
        "for epoch in range(num_epochs):\n",
        "    model.train()\n",
        "    running_loss = 0.0\n",
        "\n",
        "    # Training Loop with tqdm for progress tracking\n",
        "    loop = tqdm.tqdm(train_loader, desc=f\"Epoch [{epoch+1}/{num_epochs}]\")\n",
        "    for images, labels in loop:\n",
        "        images, labels = images.to(device), labels.to(device)\n",
        "\n",
        "        optimizer.zero_grad()\n",
        "        outputs = model(images)\n",
        "        loss = criterion(outputs, labels)\n",
        "        loss.backward()\n",
        "        optimizer.step()\n",
        "\n",
        "        running_loss += loss.item()\n",
        "        loop.set_postfix(loss=loss.item())\n",
        "\n",
        "    scheduler.step() # Update the learning rate using the learning rate scheduler after each epoch\n",
        "    epoch_loss = running_loss / len(train_loader) # Calculate average loss for the epoch\n",
        "    epoch_losses.append(epoch_loss) # Store the loss for plotting\n",
        "\n",
        "    # Validation Accuray Calculation\n",
        "    model.eval() # Set the model to evaluation mode (disables dropout and batch norm\n",
        "    correct = 0\n",
        "    total = 0\n",
        "    with torch.no_grad():\n",
        "        val_loop = tqdm.tqdm(test_loader, desc=\"Validation\")\n",
        "        for images, labels in val_loop:\n",
        "            images, labels = images.to(device), labels.to(device)\n",
        "            outputs = model(images)\n",
        "            predictions = outputs.argmax(dim=1)\n",
        "            correct += (predictions == labels).sum().item() # Count correct predictions\n",
        "            total += labels.size(0) \n",
        "    val_accuracy = correct / total # Calculate validation accuracy\n",
        "    val_accuracies.append(val_accuracy) # Store validation accuracy for plotting\n",
        "\n",
        "    # Test Accuray Calculation\n",
        "    model.eval()\n",
        "    correct_test = 0\n",
        "    total_test = 0\n",
        "    with torch.no_grad():\n",
        "        for images, labels in test_loader:\n",
        "            images, labels = images.to(device), labels.to(device)\n",
        "            outputs = model(images)\n",
        "            predictions = outputs.argmax(dim=1)\n",
        "            correct_test += (predictions == labels).sum().item() # Count correct predictions\n",
        "            total_test += labels.size(0)\n",
        "    test_accuracy = correct_test / total_test # Calculate test accuracy\n",
        "    test_accuracies.append(test_accuracy) # Store test accuracy for plotting\n",
        "\n",
        "    # Print the epoch summary: loss, validation accuracy, and test accuracy\n",
        "    print(f\"Epoch {epoch+1}/{num_epochs}, Loss: {epoch_loss:.4f}, Validation Accuracy: {val_accuracy:.4f}, Test Accuracy: {test_accuracy:.4f}\")\n",
        "\n",
        "    # Save the model if the current validation accuracy is the best so far\n",
        "    if val_accuracy > best_val_accuracy:\n",
        "        best_val_accuracy = val_accuracy\n",
        "        best_epoch = epoch + 1\n",
        "        torch.save(model.state_dict(), model_save_path)\n",
        "        print(f\"Saved new best model at epoch {epoch+1}\")"
      ]
    },
    {
      "cell_type": "code",
      "execution_count": 35,
      "metadata": {
        "colab": {
          "base_uri": "https://localhost:8080/",
          "height": 504
        },
        "id": "3bOvXkoweSsL",
        "outputId": "2b7b6b44-0885-407c-9b4e-6a779e69527a"
      },
      "outputs": [
        {
          "name": "stdout",
          "output_type": "stream",
          "text": [
            "Plot saved to: ../output/training_validation_plot.png\n"
          ]
        },
        {
          "data": {
            "image/png": "[encoded data removed]",
            "text/plain": [
              "<Figure size 640x480 with 2 Axes>"
            ]
          },
          "metadata": {},
          "output_type": "display_data"
        }
      ],
      "source": [
        "plt.figure()\n",
        "\n",
        "# Loss Plot\n",
        "plt.subplot(1, 2, 1)\n",
        "plt.plot(range(1, num_epochs + 1), epoch_losses, marker='o', linestyle='-', color='b', label=\"Training Loss\")\n",
        "plt.xlabel(\"Epoch\")\n",
        "plt.ylabel(\"Loss\")\n",
        "plt.title(\"Training Loss Over Epochs\")\n",
        "plt.legend()\n",
        "\n",
        "# Accuracy Plot\n",
        "plt.subplot(1, 2, 2)\n",
        "plt.plot(range(1, num_epochs + 1), val_accuracies, marker='o', linestyle='-', color='g', label=\"Validation Accuracy\")\n",
        "plt.plot(range(1, num_epochs + 1), test_accuracies, marker='s', linestyle='-', color='r', label=\"Test Accuracy\")\n",
        "plt.xlabel(\"Epoch\")\n",
        "plt.ylabel(\"Accuracy\")\n",
        "plt.title(\"Validation & Test Accuracy Over Epochs\")\n",
        "plt.legend()\n",
        "\n",
        "plt.tight_layout()\n",
        "\n",
        "# Save the plot\n",
        "plot_path = os.path.join(output_dir, \"training_validation_plot.png\")\n",
        "plt.savefig(plot_path)\n",
        "print(\"Plot saved to:\", plot_path)\n",
        "\n",
        "plt.show()"
      ]
    },
    {
      "cell_type": "code",
      "execution_count": null,
      "metadata": {
        "colab": {
          "base_uri": "https://localhost:8080/",
          "height": 581
        },
        "id": "Is_ro3kceSsL",
        "outputId": "12f3d6be-2bc4-47e5-a83d-b3e6757538ca"
      },
      "outputs": [
        {
          "name": "stdout",
          "output_type": "stream",
          "text": [
            "Total Accuracy: 0.9943148402274063\n"
          ]
        },
        {
          "data": {
            "image/png": "[encoded data removed]",
            "text/plain": [
              "<Figure size 800x600 with 2 Axes>"
            ]
          },
          "metadata": {},
          "output_type": "display_data"
        }
      ],
      "source": [
        "# Load the saved model's state_dict (weights) into the model and move it to the appropriate device GPU/CPU\n",
        "state_dict = torch.load(model_save_path, map_location=device)\n",
        "model.load_state_dict(state_dict)\n",
        "\n",
        "# Set the model to evaluation mod\n",
        "model.eval()\n",
        "\n",
        "# Lists to store all predictions and true labels for confusion matrix calculation\n",
        "all_preds = []\n",
        "all_labels = []\n",
        "\n",
        "\n",
        "with torch.no_grad():\n",
        "    # Loop through the test dataset to collect predictions and true labels\n",
        "    for images, labels in test_loader:\n",
        "        images = images.to(device)\n",
        "        outputs = model(images) # Get model outputs\n",
        "        preds = outputs.argmax(dim=1).cpu().numpy()\n",
        "        all_preds.extend(preds)  # Add predictions to the list\n",
        "        all_labels.extend(labels.cpu().numpy()) # Add true labels to the list\n",
        "\n",
        "# Calculate the confusion matrix\n",
        "cm = confusion_matrix(all_labels, all_preds)\n",
        "\n",
        "# Calculate the overall accuracy\n",
        "accuracy = np.sum(np.array(all_preds) == np.array(all_labels)) / len(all_labels)\n",
        "print(\"Total Accuracy:\", accuracy)\n",
        "\n",
        "# Define the class labels for the confusion matrix plot\n",
        "classes = ['CC', 'EC', 'HGSC', 'LGSC', 'MC']\n",
        "\n",
        "# Plot confusion matrix \n",
        "plt.figure(figsize=(8,6))\n",
        "sns.heatmap(cm, annot=True, fmt=\"d\", cmap=\"Blues\", xticklabels=classes, yticklabels=classes)\n",
        "plt.xlabel(\"Predicted\")\n",
        "plt.ylabel(\"True\")\n",
        "plt.title(\"Confusion Matrix\")\n",
        "plt.show()"
      ]
    }
  ],
  "metadata": {
    "accelerator": "GPU",
    "colab": {
      "gpuType": "A100",
      "provenance": []
    },
    "kernelspec": {
      "display_name": "venv",
      "language": "python",
      "name": "python3"
    },
    "language_info": {
      "codemirror_mode": {
        "name": "ipython",
        "version": 3
      },
      "file_extension": ".py",
      "mimetype": "text/x-python",
      "name": "python",
      "nbconvert_exporter": "python",
      "pygments_lexer": "ipython3",
      "version": "3.11.1"
    }
  },
  "nbformat": 4,
  "nbformat_minor": 0
}
